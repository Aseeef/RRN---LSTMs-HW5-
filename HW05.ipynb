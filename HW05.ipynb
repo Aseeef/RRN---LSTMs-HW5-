{
 "cells": [
  {
   "cell_type": "markdown",
   "metadata": {},
   "source": [
    "# CS 505 Homework 05:  Recurrent Neural Networks\n",
    "\n",
    "#### Due Friday  11/17 at midnight (1 minute after 11:59 pm) in Gradescope (with a grace period of 6 hours)\n",
    "#### You may submit the homework up to 24 hours late (with the same grace period) for a penalty of 10%. \n",
    "\n",
    "All homeworks will be scored with a maximum of 100 points; point values are given\n",
    "for individual problems, and if parts of problems do not have point values given, they\n",
    "will be counted equally toward the total for that problem. \n",
    "\n",
    "Note: This homework is a bit different from the first four in this class in that in some parts we are specified **what** you need to do for your solutions, but much less of the **how** you write the details of the code. There are three reasons for this:\n",
    "\n",
    "- In a graduate level CS class, after four homeworks and two months of lectures, you should be well-equipped to work out the coding issues for yourself, and in general, going forward, this is how you will solve the kinds of problems presented here; \n",
    "- Suggestions for resources (mostly ML blogs) will be suggested; there are many resources, but these are from bloggers that I trust and have used in the past;\n",
    "- I am expecting that you will make good use of chatGPT for help with the details of syntax and low-level organization of your code. There is often nothing very stimulating or informative about precisely what is the syntax needed for a particular kind of layer in a network, and rather than poke around on StackOverflow, chatGPT is particularly good at summarizing existing approaches to ML coding tasks. \n",
    "\n",
    "#### Submission Instructions\n",
    "\n",
    "You must complete the homework by editing <b>this notebook</b> and submitting the following two files in Gradescope by the due date and time:\n",
    "\n",
    "  - A file <code>HW05.ipynb</code> (be sure to select <code>Kernel -> Restart and Run All</code> before you submit, to make sure everything works); and\n",
    "  - A file <code>HW05.pdf</code> created from the previous.\n",
    "  \n",
    "  For best results obtaining a clean PDF file on the Mac, select <code>File -> Print Review</code> from the Jupyter window, then choose <code>File-> Print</code> in your browser and then <code>Save as PDF</code>.  Something  similar should be possible on a Windows machine -- just make sure it is readable and no cell contents have been cut off. Make it easy to grade!\n",
    "  \n",
    "The date and time of your submission is the last file you submitted, so if your IPYNB file is submitted on time, but your PDF is late, then your submission is late. "
   ]
  },
  {
   "cell_type": "markdown",
   "metadata": {},
   "source": [
    "## Collaborators (5 pts)\n",
    "\n",
    "Describe briefly but precisely\n",
    "\n",
    "1. Any persons you discussed this homework with and the nature of the discussion;\n",
    "2. Any online resources you consulted and what information you got from those resources; and\n",
    "3. Any AI agents (such as chatGPT or CoPilot) or other applications you used to complete the homework, and the nature of the help you received. \n",
    "\n",
    "A few brief sentences is all that I am looking for here. \n",
    "\n",
    "  Osama helped me figure out problem 3, and that the way I was approaching the problem, one-hot encodings were actually neccesary. The blog posts professor Snyder linked were also a good resource. I also looked up some youtube videos to understand the high-level of what I was doing (StatQuest). ChatGPT was also a huge help, but usually ChatGPT only gave a half-working answer. Still, as someone new to neural networks, ChatGPT was a great debugging tool if I did something super wrong. It was of particular help to help me write the forward method and learn about \"shortcut\" methods built into libraries to shorten my code."
   ]
  },
  {
   "cell_type": "code",
   "execution_count": 350,
   "metadata": {
    "ExecuteTime": {
     "end_time": "2023-11-29T02:07:17.789472800Z",
     "start_time": "2023-11-29T02:07:17.738952700Z"
    },
    "scrolled": false
   },
   "outputs": [],
   "source": [
    "import math\n",
    "import random\n",
    "\n",
    "import numpy as np\n",
    "from numpy.random import shuffle, seed, choice\n",
    "from tqdm import tqdm\n",
    "from collections import defaultdict, Counter\n",
    "import pandas as pd\n",
    "import re\n",
    "import matplotlib.pyplot as plt\n",
    "\n",
    "import torch\n",
    "from torch.utils.data import Dataset,DataLoader\n",
    "import torch.nn.functional as F\n",
    "from torch.utils.data import random_split,Dataset,DataLoader\n",
    "from torch import nn, optim\n",
    "from torch import topk\n",
    "\n",
    "from gensim.scripts.glove2word2vec import glove2word2vec\n",
    "from gensim.models import KeyedVectors\n",
    "from gensim.models import Word2Vec\n",
    "\n",
    "import spacy\n",
    "import nltk\n",
    "from nltk.corpus import gutenberg, brown\n",
    "import pickle\n",
    "import os\n",
    "import concurrent.futures\n",
    "import random\n",
    "import statistics"
   ]
  },
  {
   "cell_type": "code",
   "execution_count": 351,
   "metadata": {
    "ExecuteTime": {
     "end_time": "2023-11-29T02:07:18.211869800Z",
     "start_time": "2023-11-29T02:07:18.169869500Z"
    }
   },
   "outputs": [],
   "source": [
    "from typing import List\n",
    "from typing import Dict\n",
    "from typing import Any\n",
    "from typing import Union\n",
    "from typing import DefaultDict\n",
    "from typing import Tuple"
   ]
  },
  {
   "cell_type": "code",
   "execution_count": 352,
   "metadata": {
    "ExecuteTime": {
     "end_time": "2023-11-29T02:07:18.693778100Z",
     "start_time": "2023-11-29T02:07:18.663774800Z"
    }
   },
   "outputs": [],
   "source": [
    "\"\"\"\n",
    "This cell contains some helpful methods to dump notebook variables\n",
    "to a file so you don't have to rerun expensive computations every\n",
    "time.\n",
    "\"\"\"\n",
    "\n",
    "from typing import Union\n",
    "\n",
    "def does_var_exists(var_name: str) -> bool:\n",
    "    return os.path.isfile(F'./data/pickle/{var_name}.pkl')\n",
    "\n",
    "def dump_var(var_name: str, obj) -> None:\n",
    "    with open(F'./data/pickle/{var_name}.pkl', 'wb') as file:\n",
    "        pickle.dump(obj, file)\n",
    "\n",
    "def load_var(var_name: str) -> Union[None, object]:\n",
    "    if not does_var_exists(var_name):\n",
    "        return None\n",
    "    with open(F'./data/pickle/{var_name}.pkl', 'rb') as file:\n",
    "        return pickle.load(file)"
   ]
  },
  {
   "cell_type": "code",
   "execution_count": 353,
   "metadata": {
    "ExecuteTime": {
     "end_time": "2023-11-29T02:07:19.446056500Z",
     "start_time": "2023-11-29T02:07:19.401072900Z"
    }
   },
   "outputs": [],
   "source": [
    "# create dirs where I'll be storing my data\n",
    "os.makedirs('./data/glove', exist_ok=True)\n",
    "os.makedirs('./data/java', exist_ok=True)\n",
    "os.makedirs('./data/pickle', exist_ok=True)"
   ]
  },
  {
   "cell_type": "markdown",
   "metadata": {},
   "source": [
    "## Problem One:  Character-Level Generative Model (20 pts)\n",
    "\n",
    "A basic character-level model has been provided on the class web site in the row for Lecture 14: \n",
    "<a href=\"https://www.cs.bu.edu/fac/snyder/cs505/CharacterLevelLSTM.ipynb\">IPYNB</a>. Your first step is to download this and run it in Colab (or download the data file, which is in the CS 505 Data Directory and also linked on the web site, and run it on your local machine) and understand all its various features. Most of it is straight-forward at this point in the course, but the definition of the model is a bit messy, and you will need to read about LSTM layers in the Pytorch documents to really understand what it is doing and what the hyperparameters mean. \n",
    "\n",
    "Also take a look at the article \"The Unreasonable Effectiveness of Recurrent Neural Networks\" linked with lecture 14. \n",
    "\n",
    "For this problem, you will run this code on a dataset consisting of Java code files, which has been uploaded to the CS 505 Data Directory and also to the class web site: <a href=\"https://www.cs.bu.edu/fac/snyder/cs505/JavaFiles/\">DIR</a>  Select some number of these files and concatenate them into one long text file, such that you have approximately 10-20K characters (if you have trouble running out of RAM you can use fewer, but try to get at least 10K). \n",
    "\n",
    "You will run the character-level model on this dataset. You may either cut and paste code into this notebook, or submit the file with your changes and output along with this notebook to Gradescope.\n",
    "\n",
    "Your task is to get a character-level model that has not simply memorized the Java text file by overfitting, and does not do much other than spit out random characters (underfitting).  You will get the former if you simply run it for many epochs without any changes to the hyperparameters; you will get the latter if you run it only a few epochs. \n",
    "\n",
    "You should experiment with different hyperparameters, which in the notebook are indicated\n",
    "by \n",
    "\n",
    "          <== something to play with\n",
    "\n",
    "and try to get a model that seems to recognize typical Java syntax such as comments, matching parentheses, expressions, assignments, and formatting, but is not just repeating\n",
    "exact text from the data file. Clearly, the number of epochs plays a crucial role, but I also want you to\n",
    "experiment with the various hyperparameters to try to avoid overfitting. See my lectures on T 10/31 and Th 11/2 (recorded and on my YT channel) for the background to this.\n",
    "\n",
    "Note that the code you will work from does not use validation and testing sets, nor does it calculate the accuracy, but only tracks the loss. The nature of the data sets for character-level models does not seem to lend itself to accuracy metrics, but you may wish to try this -- I have not found it to be useful, but have simply focussed on the output and \"eyeballed\" the results to determine how much they have generalized\n",
    "from the data. \n",
    "\n",
    "Submit your notebook(s) to Gradescope as usual, and also provide a summary of your results in the next cell. \n"
   ]
  },
  {
   "cell_type": "code",
   "execution_count": 5,
   "metadata": {
    "ExecuteTime": {
     "end_time": "2023-11-22T03:12:13.967754600Z",
     "start_time": "2023-11-22T03:12:13.916415100Z"
    }
   },
   "outputs": [],
   "source": [
    "# load the java sources\n",
    "java_source_list = []\n",
    "num_chars = 0\n",
    "\n",
    "files = os.listdir('./data/java/')\n",
    "random.shuffle(files)\n",
    "for java_file in files:\n",
    "    # only add full files (because I don't want training code that doesn't have closing brackets\n",
    "    with open('./data/java/' + java_file, 'r') as file:\n",
    "        lines = file.readlines()\n",
    "        num_chars += len('\\n'.join(lines))\n",
    "        # don't go over 32k characters (note: I deviate a bit from the \"10k to 20k\" suggestion)\n",
    "        if num_chars > 32000:\n",
    "            break\n",
    "        java_source_list += lines\n",
    "\n",
    "java_source_text = '\\n'.join(java_source_list)"
   ]
  },
  {
   "cell_type": "code",
   "execution_count": 6,
   "metadata": {
    "ExecuteTime": {
     "end_time": "2023-11-22T03:12:14.722643100Z",
     "start_time": "2023-11-22T03:12:14.704643Z"
    }
   },
   "outputs": [
    {
     "name": "stdout",
     "output_type": "stream",
     "text": [
      "Text is 26071 characters long.\n",
      "First 200 characters: \n",
      "\n",
      "import java.util.*; \n",
      "\n",
      "\n",
      "\n",
      "public class EightPuzzle {\n",
      "\n",
      "   \n",
      "\n",
      "   private static final int searchLimit = 1000000;        // max number of nodes to search\n",
      "\n",
      "   \n",
      "\n",
      "   private static int[][] goalArray = { {0, \n"
     ]
    }
   ],
   "source": [
    "print(f\"Text is {len(java_source_text)} characters long.\")\n",
    "print(f\"First 200 characters: {java_source_text[:200]}\")"
   ]
  },
  {
   "cell_type": "code",
   "execution_count": 602,
   "metadata": {
    "ExecuteTime": {
     "end_time": "2023-11-22T03:12:18.062743Z",
     "start_time": "2023-11-22T03:12:18.045604500Z"
    }
   },
   "outputs": [],
   "source": [
    "# do some cleaning\n",
    "cleaned_java_source_text = java_source_text\n",
    "# remove double new lines\n",
    "cleaned_java_source_text = re.sub(\"\\n\\n\", \"\\n\", cleaned_java_source_text)\n",
    "# remove lines with only whitespace\n",
    "cleaned_java_source_text = re.sub(r'^\\s*$', \"\", cleaned_java_source_text)"
   ]
  },
  {
   "cell_type": "code",
   "execution_count": 603,
   "metadata": {
    "ExecuteTime": {
     "end_time": "2023-11-22T03:12:18.636454900Z",
     "start_time": "2023-11-22T03:12:18.623476100Z"
    }
   },
   "outputs": [
    {
     "name": "stdout",
     "output_type": "stream",
     "text": [
      "First 200 characters (cleaned): /* File: RecursiveGraphics.java\n",
      " * Author: \n",
      " * Date: \n",
      " * Purpose: This is the template for PS5, Problem 6\n",
      " */\n",
      "\n",
      "import java.awt.Color;\n",
      "import java.awt.Canvas;\n",
      "import java .awt.Graphics;\n",
      "import javax.sw\n"
     ]
    }
   ],
   "source": [
    "print(f\"First 200 characters (cleaned): {cleaned_java_source_text[:200]}\")"
   ]
  },
  {
   "cell_type": "code",
   "execution_count": 604,
   "metadata": {
    "ExecuteTime": {
     "end_time": "2023-11-22T03:12:19.167158Z",
     "start_time": "2023-11-22T03:12:19.038641400Z"
    }
   },
   "outputs": [
    {
     "name": "stdout",
     "output_type": "stream",
     "text": [
      "There are 89 unique characters in the text.\n",
      "Character set: ['\\t', '\\n', ' ', '!', '\"', '%', '&', \"'\", '(', ')', '*', '+', ',', '-', '.', '/', '0', '1', '2', '3', '4', '5', '6', '7', '8', '9', ':', ';', '<', '=', '?', 'A', 'B', 'C', 'D', 'E', 'F', 'G', 'H', 'I', 'J', 'K', 'L', 'M', 'N', 'O', 'P', 'Q', 'R', 'S', 'T', 'U', 'V', 'W', 'X', 'Y', 'Z', '[', '\\\\', ']', '_', 'a', 'b', 'c', 'd', 'e', 'f', 'g', 'h', 'i', 'j', 'k', 'l', 'm', 'n', 'o', 'p', 'q', 'r', 's', 't', 'u', 'v', 'w', 'x', 'y', 'z', '{', '}'].\n"
     ]
    }
   ],
   "source": [
    "chars_in_text = sorted(list(set(cleaned_java_source_text)))\n",
    "num_chars = len(chars_in_text)\n",
    "\n",
    "print(f'There are {num_chars} unique characters in the text.')\n",
    "print(f'Character set: {chars_in_text}.')"
   ]
  },
  {
   "cell_type": "code",
   "execution_count": 605,
   "metadata": {
    "ExecuteTime": {
     "end_time": "2023-11-22T03:12:19.621073200Z",
     "start_time": "2023-11-22T03:12:19.609877300Z"
    }
   },
   "outputs": [],
   "source": [
    "# Create functions mapping characters to integers and back\n",
    "\n",
    "def char2int(c):\n",
    "    return chars_in_text.index(c)\n",
    "\n",
    "def int2char(i):\n",
    "    return chars_in_text[i]"
   ]
  },
  {
   "cell_type": "code",
   "execution_count": 606,
   "metadata": {
    "ExecuteTime": {
     "end_time": "2023-11-22T03:12:27.863164900Z",
     "start_time": "2023-11-22T03:12:27.847164700Z"
    }
   },
   "outputs": [],
   "source": [
    "# HYPER PARAMETERS HERE\n",
    "sample_len = 160 # <== something to play with\n",
    "batch_size = 512 # <== something to play with\n",
    "model_dropout= 0.4 # <== something to play with\n",
    "hidden_dim_size = 316 # <== something to play with\n",
    "n_layers_count = 3 # <== something to play with\n",
    "leaning_rate = 0.001 # <== something to play with\n",
    "weight_decay = 0.00015 # <== something to play with\n",
    "model_temp = 0.7 # <== something to play with"
   ]
  },
  {
   "cell_type": "code",
   "execution_count": 607,
   "metadata": {
    "ExecuteTime": {
     "end_time": "2023-11-22T03:12:28.551460500Z",
     "start_time": "2023-11-22T03:12:28.521724300Z"
    }
   },
   "outputs": [
    {
     "name": "stdout",
     "output_type": "stream",
     "text": [
      "Input sequence:\n",
      "/* File: RecursiveGraphics.java\n",
      " * Author: \n",
      " * Date: \n",
      " * Purpose: This is the template for PS5, Problem 6\n",
      " */\n",
      "\n",
      "import java.awt.Color;\n",
      "import java.awt.Canvas;\n",
      "i\n",
      "Target sequence:\n",
      "* File: RecursiveGraphics.java\n",
      " * Author: \n",
      " * Date: \n",
      " * Purpose: This is the template for PS5, Problem 6\n",
      " */\n",
      "\n",
      "import java.awt.Color;\n",
      "import java.awt.Canvas;\n",
      "im\n",
      "\n",
      "Input sequence:\n",
      "* File: RecursiveGraphics.java\n",
      " * Author: \n",
      " * Date: \n",
      " * Purpose: This is the template for PS5, Problem 6\n",
      " */\n",
      "\n",
      "import java.awt.Color;\n",
      "import java.awt.Canvas;\n",
      "im\n",
      "Target sequence:\n",
      " File: RecursiveGraphics.java\n",
      " * Author: \n",
      " * Date: \n",
      " * Purpose: This is the template for PS5, Problem 6\n",
      " */\n",
      "\n",
      "import java.awt.Color;\n",
      "import java.awt.Canvas;\n",
      "imp\n",
      "\n",
      "Input sequence:\n",
      " File: RecursiveGraphics.java\n",
      " * Author: \n",
      " * Date: \n",
      " * Purpose: This is the template for PS5, Problem 6\n",
      " */\n",
      "\n",
      "import java.awt.Color;\n",
      "import java.awt.Canvas;\n",
      "imp\n",
      "Target sequence:\n",
      "File: RecursiveGraphics.java\n",
      " * Author: \n",
      " * Date: \n",
      " * Purpose: This is the template for PS5, Problem 6\n",
      " */\n",
      "\n",
      "import java.awt.Color;\n",
      "import java.awt.Canvas;\n",
      "impo\n",
      "\n",
      "Input sequence:\n",
      "File: RecursiveGraphics.java\n",
      " * Author: \n",
      " * Date: \n",
      " * Purpose: This is the template for PS5, Problem 6\n",
      " */\n",
      "\n",
      "import java.awt.Color;\n",
      "import java.awt.Canvas;\n",
      "impo\n",
      "Target sequence:\n",
      "ile: RecursiveGraphics.java\n",
      " * Author: \n",
      " * Date: \n",
      " * Purpose: This is the template for PS5, Problem 6\n",
      " */\n",
      "\n",
      "import java.awt.Color;\n",
      "import java.awt.Canvas;\n",
      "impor\n",
      "\n",
      "Input sequence:\n",
      "ile: RecursiveGraphics.java\n",
      " * Author: \n",
      " * Date: \n",
      " * Purpose: This is the template for PS5, Problem 6\n",
      " */\n",
      "\n",
      "import java.awt.Color;\n",
      "import java.awt.Canvas;\n",
      "impor\n",
      "Target sequence:\n",
      "le: RecursiveGraphics.java\n",
      " * Author: \n",
      " * Date: \n",
      " * Purpose: This is the template for PS5, Problem 6\n",
      " */\n",
      "\n",
      "import java.awt.Color;\n",
      "import java.awt.Canvas;\n",
      "import\n",
      "\n"
     ]
    }
   ],
   "source": [
    "# Creating lists that will hold our input and target sample sequences\n",
    "\n",
    "input_seq_chars = []\n",
    "target_seq_chars = []\n",
    "\n",
    "for k in range(len(cleaned_java_source_text)-sample_len+1):\n",
    "\n",
    "    # Remove last character for input sequence\n",
    "    input_seq_chars.append(cleaned_java_source_text[k:k+sample_len-1])\n",
    "\n",
    "    # Remove firsts character for target sequence\n",
    "    target_seq_chars.append(cleaned_java_source_text[k+1:k+sample_len])\n",
    "\n",
    "for i in range(5):\n",
    "    print(f'Input sequence:\\n{input_seq_chars[i]}')\n",
    "    print(f'Target sequence:\\n{target_seq_chars[i]}')\n",
    "    print()"
   ]
  },
  {
   "cell_type": "code",
   "execution_count": 608,
   "metadata": {
    "ExecuteTime": {
     "end_time": "2023-11-22T03:12:29.412658900Z",
     "start_time": "2023-11-22T03:12:29.398628100Z"
    }
   },
   "outputs": [],
   "source": [
    "# convert an integer into a one-hot encoding of the given size (= number of characters)\n",
    "def int2OneHot(X,size):\n",
    "\n",
    "    def int2OneHot1(x,size=10):\n",
    "        tmp = np.zeros(size)\n",
    "        tmp[int(x)] = 1.0\n",
    "        return tmp\n",
    "\n",
    "    return np.array([ int2OneHot1(x, size) for x in X ]).astype('double')\n",
    "\n",
    "# do the same thing, but for a list/array of integers\n",
    "def seq2OneHot(seq,size):\n",
    "    return np.array([ int2OneHot(x, size) for x in seq ])"
   ]
  },
  {
   "cell_type": "code",
   "execution_count": 609,
   "metadata": {
    "ExecuteTime": {
     "end_time": "2023-11-22T03:12:42.269289600Z",
     "start_time": "2023-11-22T03:12:30.094474100Z"
    }
   },
   "outputs": [],
   "source": [
    "input_seq = []\n",
    "for i in range(len(input_seq_chars)):\n",
    "    input_seq.append( [char2int(ch) for ch in input_seq_chars[i]])\n",
    "input_seq = seq2OneHot(input_seq,size=num_chars)"
   ]
  },
  {
   "cell_type": "code",
   "execution_count": 610,
   "metadata": {
    "ExecuteTime": {
     "end_time": "2023-11-22T03:12:54.400574800Z",
     "start_time": "2023-11-22T03:12:42.290470100Z"
    }
   },
   "outputs": [],
   "source": [
    "target_seq = []\n",
    "for i in range(len(input_seq_chars)):\n",
    "    target_seq.append([char2int(ch) for ch in target_seq_chars[i]])\n",
    "target_seq = seq2OneHot(target_seq,size=num_chars)"
   ]
  },
  {
   "cell_type": "code",
   "execution_count": 611,
   "metadata": {
    "ExecuteTime": {
     "end_time": "2023-11-22T03:12:54.409578600Z",
     "start_time": "2023-11-22T03:12:54.399573300Z"
    }
   },
   "outputs": [
    {
     "name": "stdout",
     "output_type": "stream",
     "text": [
      "input shape: (30480, 159, 89)\n",
      "target shape: (30480, 159, 89)\n"
     ]
    }
   ],
   "source": [
    "print('input shape:', input_seq.shape)\n",
    "print('target shape:', target_seq.shape)"
   ]
  },
  {
   "cell_type": "code",
   "execution_count": 612,
   "metadata": {
    "ExecuteTime": {
     "end_time": "2023-11-22T03:12:57.392332Z",
     "start_time": "2023-11-22T03:12:54.407597200Z"
    }
   },
   "outputs": [],
   "source": [
    "input_seq = torch.Tensor(input_seq).type(torch.DoubleTensor)\n",
    "target_seq = torch.Tensor(target_seq).type(torch.DoubleTensor)"
   ]
  },
  {
   "cell_type": "code",
   "execution_count": 613,
   "metadata": {
    "ExecuteTime": {
     "end_time": "2023-11-22T03:12:57.405332200Z",
     "start_time": "2023-11-22T03:12:57.396331200Z"
    }
   },
   "outputs": [
    {
     "data": {
      "text/plain": [
       "30480"
      ]
     },
     "execution_count": 613,
     "metadata": {},
     "output_type": "execute_result"
    }
   ],
   "source": [
    "class Basic_Dataset(Dataset):\n",
    "\n",
    "    def __init__(self, X,Y):\n",
    "        self.X = X\n",
    "        self.Y = Y\n",
    "\n",
    "    def __len__(self):\n",
    "        return len(self.X)\n",
    "\n",
    "    # return a pair x,y at the index idx in the data set\n",
    "    def __getitem__(self, idx):\n",
    "        return self.X[idx], self.Y[idx]\n",
    "\n",
    "ds = Basic_Dataset(input_seq,target_seq)\n",
    "ds.__len__()"
   ]
  },
  {
   "cell_type": "code",
   "execution_count": 614,
   "metadata": {
    "ExecuteTime": {
     "end_time": "2023-11-22T03:12:57.454515600Z",
     "start_time": "2023-11-22T03:12:57.419568500Z"
    }
   },
   "outputs": [],
   "source": [
    "data_loader = DataLoader(ds, batch_size=batch_size, shuffle=True)"
   ]
  },
  {
   "cell_type": "code",
   "execution_count": 615,
   "metadata": {
    "ExecuteTime": {
     "end_time": "2023-11-22T03:12:57.465516600Z",
     "start_time": "2023-11-22T03:12:57.427154700Z"
    }
   },
   "outputs": [
    {
     "name": "stdout",
     "output_type": "stream",
     "text": [
      "GPU is available\n"
     ]
    }
   ],
   "source": [
    "# torch.cuda.is_available() checks and returns a Boolean True if a GPU is available, else it'll return False\n",
    "is_cuda = torch.cuda.is_available()\n",
    "\n",
    "# If we have a GPU available, we'll set our device to GPU. We'll use this device variable later in our code.\n",
    "if is_cuda:\n",
    "    device = torch.device(\"cuda\")\n",
    "    print(\"GPU is available\")\n",
    "else:\n",
    "    device = torch.device(\"cpu\")\n",
    "    print(\"GPU not available, CPU used\")"
   ]
  },
  {
   "cell_type": "code",
   "execution_count": 616,
   "metadata": {
    "ExecuteTime": {
     "end_time": "2023-11-22T03:12:57.480663900Z",
     "start_time": "2023-11-22T03:12:57.454515600Z"
    }
   },
   "outputs": [],
   "source": [
    "class Model(nn.Module):\n",
    "    def __init__(self, input_size, output_size, hidden_dim, n_layers, dropout):\n",
    "        super(Model, self).__init__()\n",
    "\n",
    "        # Defining some parameters\n",
    "        self.hidden_dim = hidden_dim\n",
    "        self.n_layers = n_layers\n",
    "\n",
    "        #Defining the layers\n",
    "        self.lstm = nn.LSTM(input_size, hidden_dim, n_layers,dropout=dropout,batch_first=True)\n",
    "        # Fully connected layer\n",
    "        self.fc1 = nn.Linear(hidden_dim, output_size)\n",
    "\n",
    "    def forward(self, x):\n",
    "\n",
    "        hidden_state_size = x.size(0)\n",
    "\n",
    "        x = x.to(torch.double)\n",
    "\n",
    "        h0 = torch.zeros(self.n_layers,hidden_state_size,self.hidden_dim).double().to(device)\n",
    "        c0 = torch.zeros(self.n_layers,hidden_state_size,self.hidden_dim).double().to(device)\n",
    "\n",
    "        self.lstm = self.lstm.double()\n",
    "\n",
    "        self.fc1 = self.fc1.double()\n",
    "\n",
    "        # Passing in the input and hidden state into the model and obtaining outputs\n",
    "        out, (hx,cx) = self.lstm(x, (h0,c0))\n",
    "\n",
    "        # Reshaping the outputs such that it can be fit into the fully connected layer\n",
    "        out = out.contiguous().view(-1, self.hidden_dim)\n",
    "        out = self.fc1(out)\n",
    "\n",
    "        return out"
   ]
  },
  {
   "cell_type": "code",
   "execution_count": 617,
   "metadata": {
    "ExecuteTime": {
     "end_time": "2023-11-22T03:12:57.483659200Z",
     "start_time": "2023-11-22T03:12:57.480663900Z"
    }
   },
   "outputs": [
    {
     "name": "stdout",
     "output_type": "stream",
     "text": [
      "Model(\n",
      "  (lstm): LSTM(89, 316, num_layers=3, batch_first=True, dropout=0.4)\n",
      "  (fc1): Linear(in_features=316, out_features=89, bias=True)\n",
      ")\n"
     ]
    }
   ],
   "source": [
    "# Instantiate the model with hyperparameters\n",
    "\n",
    "model = Model(input_size=num_chars, output_size=num_chars, hidden_dim=hidden_dim_size, n_layers=n_layers_count,dropout=model_dropout)\n",
    "\n",
    "print(model)\n",
    "\n",
    "model = model.double().to(device)\n",
    "\n",
    "# Define Loss, Optimizer\n",
    "loss_fn = nn.CrossEntropyLoss()\n",
    "\n",
    "optimizer = torch.optim.Adam(model.parameters(), lr=leaning_rate,weight_decay=weight_decay)"
   ]
  },
  {
   "cell_type": "code",
   "execution_count": 618,
   "metadata": {
    "ExecuteTime": {
     "end_time": "2023-11-22T03:12:57.532379700Z",
     "start_time": "2023-11-22T03:12:57.480663900Z"
    }
   },
   "outputs": [],
   "source": [
    "losses = []"
   ]
  },
  {
   "cell_type": "code",
   "execution_count": 625,
   "metadata": {
    "ExecuteTime": {
     "end_time": "2023-11-22T03:24:33.755824Z",
     "start_time": "2023-11-22T03:22:58.652442300Z"
    }
   },
   "outputs": [
    {
     "name": "stderr",
     "output_type": "stream",
     "text": [
      "100%|██████████| 4/4 [01:34<00:00, 23.74s/it]\n"
     ]
    }
   ],
   "source": [
    "num_epochs = 25\n",
    "model.train()\n",
    "\n",
    "for epoch in tqdm(range(num_epochs)):\n",
    "\n",
    "    for input_seq_batch,target_seq_batch in data_loader:\n",
    "        input_seq_batch = input_seq_batch.to(device)\n",
    "        target_seq_batch = target_seq_batch.to(device)\n",
    "        optimizer.zero_grad()\n",
    "        target_seq_hat = model(input_seq_batch)\n",
    "        loss = loss_fn(target_seq_hat,target_seq_batch.view(-1,num_chars))\n",
    "        loss.backward()\n",
    "        optimizer.step()\n",
    "\n",
    "    losses.append(loss.item())"
   ]
  },
  {
   "cell_type": "code",
   "execution_count": 626,
   "metadata": {
    "ExecuteTime": {
     "end_time": "2023-11-22T03:24:38.801343Z",
     "start_time": "2023-11-22T03:24:37.856672200Z"
    }
   },
   "outputs": [
    {
     "data": {
      "text/plain": [
       "[<matplotlib.lines.Line2D at 0x14d55d511a58>]"
      ]
     },
     "execution_count": 626,
     "metadata": {},
     "output_type": "execute_result"
    },
    {
     "data": {
      "image/png": "[encoded data removed]",
      "text/plain": [
       "<Figure size 432x288 with 1 Axes>"
      ]
     },
     "metadata": {
      "needs_background": "light"
     },
     "output_type": "display_data"
    }
   ],
   "source": [
    "plt.title('Loss')\n",
    "plt.plot(losses)"
   ]
  },
  {
   "cell_type": "code",
   "execution_count": 631,
   "metadata": {
    "ExecuteTime": {
     "end_time": "2023-11-22T03:48:00.682335800Z",
     "start_time": "2023-11-22T03:48:00.538733800Z"
    }
   },
   "outputs": [],
   "source": [
    "#file_path = './data/pickle/final_model.torch'\n",
    "#torch.save(model, file_path)\n",
    "#dump_var(\"losses\", losses)"
   ]
  },
  {
   "cell_type": "code",
   "execution_count": 627,
   "metadata": {
    "ExecuteTime": {
     "end_time": "2023-11-22T03:24:43.140354800Z",
     "start_time": "2023-11-22T03:24:42.997791600Z"
    }
   },
   "outputs": [
    {
     "name": "stdout",
     "output_type": "stream",
     "text": [
      "Example of softmax with temperature.\n",
      "distribution: [0.1, 0.3, 0.6]\n",
      "[1.9287498479637375e-22, 9.3576229688393e-14, 0.9999999999999064]\n",
      "[0.006377460922442302, 0.04712341652466416, 0.9464991225528936]\n",
      "[0.06289001324586753, 0.1709527801977903, 0.7661572065563421]\n",
      "[0.12132647558421489, 0.23631170657656433, 0.6423618178392208]\n",
      "[0.2583896517379799, 0.3155978333128144, 0.4260125149492058]\n",
      "[0.3255767455856355, 0.3321538321280155, 0.3422694222863489]\n"
     ]
    }
   ],
   "source": [
    "\n",
    "def softmax_with_temperature(vec, temperature):\n",
    "    sum_exp = sum(math.exp(x/temperature) for x in vec)\n",
    "    return [math.exp(x/temperature)/sum_exp for x in vec]\n",
    "\n",
    "print(\"Example of softmax with temperature.\")\n",
    "dist = [0.1, 0.3, 0.6]\n",
    "print('distribution:',dist)\n",
    "print(softmax_with_temperature(dist,0.01))\n",
    "print(softmax_with_temperature(dist,0.1))\n",
    "print(softmax_with_temperature(dist,0.2))\n",
    "print(softmax_with_temperature(dist,0.3))\n",
    "print(softmax_with_temperature(dist,1))\n",
    "print(softmax_with_temperature(dist,10))"
   ]
  },
  {
   "cell_type": "code",
   "execution_count": 628,
   "metadata": {
    "ExecuteTime": {
     "end_time": "2023-11-22T03:24:44.182602700Z",
     "start_time": "2023-11-22T03:24:43.915040800Z"
    }
   },
   "outputs": [
    {
     "data": {
      "text/plain": [
       "'\\n'"
      ]
     },
     "execution_count": 628,
     "metadata": {},
     "output_type": "execute_result"
    }
   ],
   "source": [
    "temperature = model_temp\n",
    "\n",
    "def predict(model, ch):\n",
    "\n",
    "    # only look at last sample_len - 1 characters\n",
    "\n",
    "    ch = ch[-(sample_len - 1):]\n",
    "\n",
    "    # One-hot encoding our input to fit into the model\n",
    "    ch = np.array([char2int(c) for c in ch])\n",
    "    ch = np.array([int2OneHot(ch, num_chars)])\n",
    "    ch = torch.from_numpy(ch).to(device)\n",
    "\n",
    "    out = model(ch)\n",
    "\n",
    "    # take the probability distribution of the last character in the sequence produced by the model\n",
    "    prob = softmax_with_temperature(out[-1],temperature)\n",
    "\n",
    "    # Choosing a character based on the probability distribution, with temperature\n",
    "    char_ind = choice(list(range(num_chars)), p=prob)\n",
    "\n",
    "    return int2char(char_ind)\n",
    "\n",
    "predict(model,\"public static \")"
   ]
  },
  {
   "cell_type": "code",
   "execution_count": 629,
   "metadata": {
    "ExecuteTime": {
     "end_time": "2023-11-22T03:24:46.819524500Z",
     "start_time": "2023-11-22T03:24:46.817521400Z"
    }
   },
   "outputs": [],
   "source": [
    "def sample(model, out_len, start):\n",
    "    model.eval() # eval mode\n",
    "    # First off, run through the starting characters\n",
    "    chars = [ch for ch in start]\n",
    "    size = out_len - len(chars)\n",
    "    # Now pass in the previous characters and get a new one\n",
    "    for ii in range(size):\n",
    "        char = predict(model, chars)\n",
    "        chars.append(char)\n",
    "\n",
    "    return ''.join(chars)"
   ]
  },
  {
   "cell_type": "code",
   "execution_count": 630,
   "metadata": {
    "ExecuteTime": {
     "end_time": "2023-11-22T03:25:18.549852300Z",
     "start_time": "2023-11-22T03:24:46.819524500Z"
    }
   },
   "outputs": [
    {
     "name": "stdout",
     "output_type": "stream",
     "text": [
      "public static void drawSpiralHelper(double x, double y, double s, boolean horizontal, int depth, Graphics g) {\n",
      " \t\n",
      "\tif(depth == 0) {\n",
      "           return;\n",
      "       }\n",
      "       \n",
      "       // draw lines\n",
      "       \n",
      "       double x1 = x0 + len * Math.cos(angle);\n",
      "       double y1 = y0 - len * Math.sin(angle);\n",
      " \n",
      "       drawLine(x0,y0,x1,y1,g);\n",
      "       \n",
      "       for (int i = 0; i < rDelta.length; ++i) {\n",
      "          changeColorByRecursionDepth(depth); \n",
      "          drawTreeHelper(x1, y1, len * lenDelta[i], angle + thetaDelta[i], depth-1,g);\n",
      "       }\n",
      "   }\n",
      "\n",
      "\n",
      "\n",
      "\n",
      "    //  Problem 6.1    Your Turn!\n",
      "    //  For this one, you have to figure aut how to do the recursive cales on tem .\n",
      "    public void drawLine(double x1, double y1, double x5, double y5, int depth, Graphics g) {\n",
      "       if (depth == 2) {\n",
      "\t    drawLine(x1, y1, x5, y5, g);\n",
      "       }\n",
      "       else {\n",
      "           \n",
      "           double x2, x3, x4;\n",
      "           double y2, y1, y3, y5;  \n",
      "            \n",
      "           double deltaX = x5 - x1;\n",
      "           double deltaY = y5 - x1;\n",
      "           double deltaY = y5 - y1;\n",
      "           \n",
      "           x2 = x1 + deltaX/3.0;\n",
      "           y2 = y1 + deltaY/3.0;\n",
      "           x4 = y5 - deltaY/3.0;\n",
      "           x3 = ((x1 + x5)/2.0 - (Math.sqrt(3.0)/6.0) * (y5 - y5));\n",
      "           double y3 = ((y1 + y5)/2.0 + (Math.sqrt(3.0)/6.0) * (y5 - y5));\n",
      "           y3 = ((y1 + y5)/2 + ( (Math.sqrt(3.0)/6.0) * (y5 - y5));\n",
      "\t   \n",
      "           double x3 = ((x1 + x5)/2.0 - (Math.sqrt(3.0)/6.0) * (y1 - y1));\n",
      "           x3 = ((x1 + x5)/2.0 + (Math.sqrt(3.0)/6.0) * (x1 - y1));\n",
      "           x3 = (y1 + deltaX/3.0;\n",
      "           x2 =  ( x1 + x) --  Math.sqrt(3.0);\n",
      "        double y[] = y    Math.sqrt(3; \n",
      "        double[] ys = new double[3];\n",
      "        xs[0] = x; \n",
      "        ys[0] = y;\n",
      "        ys[1] = x-s/2;\n",
      "        ys[2] = y+s/2;\n",
      "        ys[2] = y+s*0.66;\n",
      "        x1 = y + Meth.sqrt(atth).0.5 * Math.cIs40;\n",
      "        if(depth == 0) {\n",
      "           return;\n",
      "       }\n",
      "       \n",
      "       // draw lines\n",
      "       \n",
      "       double x1 = x0 - len * Math.cos(angle);\n",
      "       double y1 = y0 - len * Math.sin(angle);\n"
     ]
    }
   ],
   "source": [
    "print(sample(model, 2000, \"public static \"))"
   ]
  },
  {
   "cell_type": "markdown",
   "metadata": {
    "id": "VnB5z-ZoZEa5"
   },
   "source": [
    "### Your analysis\n",
    "\n",
    "Please describe your experiments and cut and paste various outputs to show how the model performed at\n",
    "various numbers of epochs and with various hyperparameters. What characteristics of Java was it able to learn? What did it not learn? The article \"The Unreasonable ...\" does a nice job of showing this kind of behavior as the number of epochs increases, and you might look at it before writing your answer here. \n",
    "\n",
    "My goal going into this was to create a model that understands Java syntax (including at the very least, opening and closing brackets) as stated in the problem.\n",
    "\n",
    "Starting with the example code in the CharacterLevelLSTM.ipynb, my first attempts to get an effective model were disappointing. With my initial hyperparameters copied from the CharacterLevelLSTM.ipynb, my model was memorizing things way too quick (in less than 20 epochs). Here were some results from 50 epochs:\n",
    "Code Generations: https://share.aseef.dev/bDfMCkP\n",
    "Losses: https://share.aseef.dev/WHcLkjc\n",
    "\n",
    "In order to prevent memorization I played around with several things:\n",
    "1. Used drop-out rates from 30%-50% to prevent memorization\n",
    "2. Played around with layers low as 1 and deep as 6 in hopes the model can better extract abstract info\n",
    "3. Increased batch size (though this was just to train faster as my model size grew)\n",
    "4. Reduced the number of feature states by half in hopes that the model won't have enough states to memorize the data (from 96-256) - but this didn't work well in practice.\n",
    "5. Also played around with the sample lengths and found though higher sample lengths took longer to train, they produced higher quality models\n",
    "\n",
    "In this experimentation, the challenges I encountered were that the dropout rates were simply too high on one spectrum and the model just stopped learning after one point (no matter how many more epochs I would train it for):\n",
    "Code Generation: https://share.aseef.dev/coGIakH\n",
    "Losses: https://share.aseef.dev/Er2mKLm\n",
    "\n",
    "But simply just reducing dropout rates didn't help much either (with a dropout rate of 0.3):\n",
    "Code Generation: https://share.aseef.dev/LMdsJCE\n",
    "Losses: https://share.aseef.dev/rHDRPH7\n",
    "\n",
    "In the end, nothing worked and I was not able to produce any \"decent\" models. My models were either garbage, or memorized. That was until I took a page from \"the unreasonable effectiveness of data\" and simply added about 50% more data by increasing my data size to up to 32k characters!\n",
    "\n",
    "My final model finally produces outputs that aren't fully memorized and finally starts to demonstrate some understanding of brackets, indenting (mostly), methods, function calls and etc. In fact, the model went beyond my expectation and the code it wrote was still relevant to the name of the method (e.i. wasn't making just completely random calls).\n",
    "Code Generation: https://share.aseef.dev/i9WE5Tg\n",
    "Losses: https://share.aseef.dev/NoAtm44\n",
    "\n",
    "I think the final drop out rates I ended up using (at 40%) was also an important choice that helped the model finally generalize to a satisfactory model.\n"
   ]
  },
  {
   "cell_type": "markdown",
   "metadata": {},
   "source": [
    "## Problem Two:  Word-Level Generative Model (40 pts)\n",
    "\n",
    "In this problem you will write another generative model, as you did in HW 03, but this time you will use an LSTM network, GloVe word embeddings, and beam search. \n",
    "\n",
    "Before you start, read the following blog post to see the core ideas involved in creating a generative model using word embeddings:\n",
    "\n",
    "https://machinelearningmastery.com/how-to-develop-a-word-level-neural-language-model-in-keras/\n",
    "\n",
    "You may also wish to consult with chatGPT about how to develop this kind of model in Pytorch.\n",
    "\n",
    "The requirements for this problem are as follows (they mostly consist of the extensions proposed at\n",
    "the end of the blog post linked above):\n",
    "\n",
    "- Develop your code in Pytorch, not Keras\n",
    "- Use the novel *Persuation* by Jane Austen as your training data (available through the Brown Corpus); if you have trouble with RAM you will need to cut down the number of sentences (perhaps by eliminating the longest sentences as well, see next point). \n",
    "- Develop a sentence-level model by padding sentences to the maximum sentence length in the novel (if this seems extreme, you may wish to delete a small number of the longest sentences to reduce the maximum length). Surround your data sentences with `<s>` and `</s>` and your model should generate one sentence at a time (as you did in HW 03), i.e., it should stop if it generates the `</s>` token. \n",
    "- Use pretrained GLoVe embeddings with dimension 200, and update them (refine by training further) on the sentences in the novel; if you have trouble with RAM you may use a smaller dimension. \n",
    "- Experiment with the hyperparameters (sample length, number of layers, uni- or bi-directional, weight_decay, dropout, number of epochs, temperature of the softmax, etc.) as you did in Problem One to find the \"sweet spot\" where you are generating interesting-looking sentences but not simply repeating sentences from the data. You may want to try adding more linear layers on top to pick the most likely next word. \n",
    "- Generate sentences using Beam Search, which we describe below. \n",
    "\n",
    "Your solution should be the code, samples of sentences generated with their score (described below), and your description of the investigation of various hyperparameters, and what strategy ended up seeming to generate the most realistic sentences that were not simply a repeat of sentences in the data. \n"
   ]
  },
  {
   "cell_type": "code",
   "execution_count": 354,
   "metadata": {
    "ExecuteTime": {
     "end_time": "2023-11-29T02:08:55.221606200Z",
     "start_time": "2023-11-29T02:08:54.281258500Z"
    }
   },
   "outputs": [
    {
     "name": "stderr",
     "output_type": "stream",
     "text": [
      "[nltk_data] Downloading package gutenberg to\n",
      "[nltk_data]     /usr4/cs505ws/aseef/nltk_data...\n",
      "[nltk_data]   Package gutenberg is already up-to-date!\n"
     ]
    }
   ],
   "source": [
    "#if does_var_exists('persuasion_doc'):\n",
    "#    persuasion_doc = load_var('persuasion_doc')\n",
    "#else:\n",
    "# download it from gutenberg\n",
    "nltk.download('gutenberg')\n",
    "# Load the text of Persuasion by Jane Austen\n",
    "persuasion_raw_text = gutenberg.raw('austen-persuasion.txt')\n",
    "# Tokenize the text into sentences\n",
    "#spacy.require_gpu()\n",
    "nlp = spacy.load(\"en_core_web_sm\")"
   ]
  },
  {
   "cell_type": "code",
   "execution_count": 355,
   "metadata": {
    "ExecuteTime": {
     "end_time": "2023-11-29T02:08:55.234530600Z",
     "start_time": "2023-11-29T02:08:55.222606400Z"
    }
   },
   "outputs": [
    {
     "name": "stdout",
     "output_type": "stream",
     "text": [
      "The novel is 466292 characters long with 53 uncased unique characters {'x', 'y', 'u', 'v', '\"', '[', \"'\", '5', 'z', 'm', 'q', '-', 't', '1', 'f', '8', '4', 's', 'j', 'g', ';', 'p', 'a', '0', '9', 'i', 'd', 'c', 'r', 'h', ' ', 'l', '&', 'n', '7', 'b', '!', '(', 'k', 'o', ')', '2', '`', ':', '6', '?', '3', 'w', ']', ',', '.', 'e', '\\n'}.\n"
     ]
    }
   ],
   "source": [
    "print(f\"The novel is {len(persuasion_raw_text)} characters long with {len(set(persuasion_raw_text.lower()))} uncased unique characters {set(persuasion_raw_text.lower())}.\")"
   ]
  },
  {
   "cell_type": "code",
   "execution_count": 356,
   "metadata": {
    "ExecuteTime": {
     "end_time": "2023-11-29T02:09:07.398998300Z",
     "start_time": "2023-11-29T02:08:55.244587500Z"
    }
   },
   "outputs": [],
   "source": [
    "def raw_text_to_sentences(raw_text):\n",
    "    # convert doc to a string list of sentences\n",
    "    text_doc = nlp(raw_text)\n",
    "    text_sentences: List[List[str]] = []\n",
    "    for text_sent in text_doc.sents:\n",
    "        text_sentences += [text_sent.__str__()]\n",
    "    return text_sentences\n",
    "\n",
    "# convert doc to a string list of sentences\n",
    "persuasion_sentences: List[List[str]] = raw_text_to_sentences(persuasion_raw_text)"
   ]
  },
  {
   "cell_type": "code",
   "execution_count": 357,
   "metadata": {
    "ExecuteTime": {
     "end_time": "2023-11-29T02:09:07.398998300Z",
     "start_time": "2023-11-29T02:09:07.367061200Z"
    }
   },
   "outputs": [
    {
     "name": "stdout",
     "output_type": "stream",
     "text": [
      "[Persuasion by Jane Austen 1818]\n",
      "\n",
      "\n",
      "Chapter 1\n",
      "\n",
      "\n",
      "Sir Walter Elliot, of Kellynch Hall, in Somersetshire, was a man who,\n",
      "for his own amusement, never took up any book but the Baronetage;\n",
      "there he found occupation for an idle hour, and consolation in a\n",
      "distressed one; there his faculties were roused into admiration and\n",
      "respect, by contemplating the limited remnant of the earliest patents;\n",
      "there any unwelcome sensations, arising from domestic affairs\n",
      "changed naturally into pity and contempt as he turned over\n",
      "the almost endless creations of the last century; and there,\n",
      "if every other leaf were powerless, he could read his own history\n",
      "with an interest which never failed.  \n",
      "This was the page at which\n",
      "the favourite volume always opened:\n",
      "\n",
      "           \"ELLIOT OF KELLYNCH HALL.\n",
      "\n",
      "\n",
      "\"Walter Elliot, born March 1, 1760, married, July 15, 1784, Elizabeth,\n",
      "daughter of James Stevenson, Esq. of South Park, in the county of\n",
      "Gloucester, by which lady (who died 1800) he has issue Elizabeth,\n",
      "born June 1, 1785; Anne, born August 9, 1787; a still-born son,\n",
      "November 5, 1789; Mary, born November 20, 1791.\n"
     ]
    }
   ],
   "source": [
    "# print first 3 sentences to confirm stuff works\n",
    "for sent in persuasion_sentences[:3]:\n",
    "    print(sent)"
   ]
  },
  {
   "cell_type": "code",
   "execution_count": 358,
   "metadata": {
    "ExecuteTime": {
     "end_time": "2023-11-29T02:09:07.529562800Z",
     "start_time": "2023-11-29T02:09:07.374999700Z"
    }
   },
   "outputs": [
    {
     "name": "stdout",
     "output_type": "stream",
     "text": [
      "<s> this was the page at which the favourite volume always opened elliot of kellynch hall </s>\n",
      "\n",
      "<s> walter elliot born march 1 1760 married july 15 1784 elizabeth daughter of james stevenson esq of south park in the county of gloucester by which lady who died 1800 he has issue elizabeth born june 1 1785 anne born august 9 1787 a stillborn son november 5 1789 mary born november 20 1791 </s>\n",
      "\n",
      "<s> precisely such had the paragraph originally stood from the printers hands but sir walter had improved it by adding for the information of himself and his family these words after the date of marys birth married december 16 1810 charles son and heir of charles musgrove esq of uppercross in the county of somerset and by inserting most accurately the day of the month on which he had lost his wife </s>\n",
      "\n",
      "<s> then followed the history and rise of the ancient and respectable family in the usual terms how it had been first settled in cheshire how mentioned in dugdale serving the office of high sheriff representing a borough in three successive parliaments exertions of loyalty and dignity of baronet in the first year of charles ii with all the marys and elizabeths they had married forming altogether two handsome duodecimo pages and concluding with the arms and mottoprincipal seat kellynch hall in the county of somerset and sir walters handwriting again in this finale heir presumptive william walter elliot esq great grandson of the second sir walter </s>\n",
      "\n"
     ]
    }
   ],
   "source": [
    "def clean_sentences(sentences):\n",
    "    # 1. get rid of the book title\n",
    "    sentences: List[str] = sentences[1:]\n",
    "    # 2. get rid of chapter titles\n",
    "    for i in range(len(sentences)):\n",
    "        sentences[i] = re.sub(\"Chapter [0-9]+\", \"\", sentences[i])\n",
    "    # 3. get rid of trailing whitespaces\n",
    "    for i in range(len(sentences)):\n",
    "        sentences[i] = sentences[i].strip()\n",
    "    # 4. lowercase everything\n",
    "    for i in range(len(sentences)):\n",
    "        sentences[i] = sentences[i].lower()\n",
    "    # 5. convert contractions\n",
    "    for i in range(len(sentences)):\n",
    "        sentences[i] = sentences[i].replace(\"'ll\", \" will\")\n",
    "        sentences[i] = sentences[i].replace(\"that's\", \"that is\")\n",
    "        sentences[i] = sentences[i].replace(\"n't\", \" not\")\n",
    "\n",
    "    # 6 handle punctuations\n",
    "    # no punctuations\n",
    "    for i in range(len(sentences)):\n",
    "        sentences[i] = re.sub(\"[.;`()\\[\\]!,\\-?:&\\\"']\", \"\", sentences[i])\n",
    "    # with punctuations\n",
    "    #for i in range(len(persuasion_cleaned_sentences)):  # quotes at start of sents belong to the prev sent\n",
    "    #    if persuasion_cleaned_sentences[i].strip().startswith(\"\\\"\"):\n",
    "    #        persuasion_cleaned_sentences[i] = persuasion_cleaned_sentences[i].strip()[1:]\n",
    "    #        persuasion_cleaned_sentences[i-1] = persuasion_cleaned_sentences[i-1] + \"\\\"\"\n",
    "    #for i in range(len(persuasion_cleaned_sentences)):\n",
    "    #    persuasion_cleaned_sentences[i] = re.sub(\"([.;`()\\[\\]!,\\-?:&\\\"'])\", r\" \\1 \", persuasion_cleaned_sentences[i])\n",
    "\n",
    "    # 7. get rid of new line characters\n",
    "    for i in range(len(sentences)):\n",
    "        sentences[i] = sentences[i].replace(\"\\n\", \" \")\n",
    "    # 8. get rid of empty sentences\n",
    "    sentences = [sent for sent in sentences if sent.strip() != '']\n",
    "    # 9. Surround your data sentences with `<s>` and `</s>`\n",
    "    for i in range(len(sentences)):\n",
    "        sentences[i] = \"<s> \" + sentences[i] + \" </s>\"\n",
    "    # 10. get rid of extra spaces (yeah... I know this wouldn't have matter much later but... I want a clean print)\n",
    "    for i in range(len(sentences)):\n",
    "        sentences[i] = re.sub(\" +\", \" \", sentences[i])\n",
    "\n",
    "    return sentences\n",
    "\n",
    "# lets clean up the sentences...\n",
    "persuasion_cleaned_sentences = clean_sentences(persuasion_sentences)\n",
    "\n",
    "# print a few sents to make sure everything looks good\n",
    "for sent in persuasion_cleaned_sentences[:4]:\n",
    "    print(sent)\n",
    "    print()\n",
    "# LOOK AT HOW BEAUTIFUL THE NORMALIZED TEXT IS"
   ]
  },
  {
   "cell_type": "code",
   "execution_count": 359,
   "metadata": {
    "ExecuteTime": {
     "end_time": "2023-11-29T02:09:07.529562800Z",
     "start_time": "2023-11-29T02:09:07.445004300Z"
    }
   },
   "outputs": [
    {
     "name": "stdout",
     "output_type": "stream",
     "text": [
      "[['<s>', 'this', 'was', 'the', 'page', 'at', 'which', 'the', 'favourite', 'volume', 'always', 'opened', 'elliot', 'of', 'kellynch', 'hall', '</s>'], ['<s>', 'walter', 'elliot', 'born', 'march', '1', '1760', 'married', 'july', '15', '1784', 'elizabeth', 'daughter', 'of', 'james', 'stevenson', 'esq', 'of', 'south', 'park', 'in', 'the', 'county', 'of', 'gloucester', 'by', 'which', 'lady', 'who', 'died', '1800', 'he', 'has', 'issue', 'elizabeth', 'born', 'june', '1', '1785', 'anne', 'born', 'august', '9', '1787', 'a', 'stillborn', 'son', 'november', '5', '1789', 'mary', 'born', 'november', '20', '1791', '</s>']]\n"
     ]
    }
   ],
   "source": [
    "persuasion_cleaned_sentences_and_words = [sent.split(' ') for sent in persuasion_cleaned_sentences]\n",
    "#persuasion_cleaned_and_trimmed_sentences_and_words = [sent.split(' ') for sent in persuasion_trimmed_sentences]\n",
    "print(persuasion_cleaned_sentences_and_words[:2])"
   ]
  },
  {
   "cell_type": "code",
   "execution_count": 360,
   "metadata": {
    "ExecuteTime": {
     "end_time": "2023-11-29T02:09:07.529562800Z",
     "start_time": "2023-11-29T02:09:07.445004300Z"
    }
   },
   "outputs": [
    {
     "name": "stdout",
     "output_type": "stream",
     "text": [
      "The novel has 5958 unique words!\n"
     ]
    }
   ],
   "source": [
    "words_set = set(' '.join(persuasion_cleaned_sentences).split(' '))\n",
    "print(f\"The novel has {len(words_set)} unique words!\")"
   ]
  },
  {
   "cell_type": "code",
   "execution_count": 361,
   "metadata": {
    "ExecuteTime": {
     "end_time": "2023-11-29T02:09:07.529562800Z",
     "start_time": "2023-11-29T02:09:07.445004300Z"
    }
   },
   "outputs": [],
   "source": [
    "# HYPER PARAMETERS\n",
    "sequence_length = 12\n",
    "batch_size = 256\n",
    "hidden_dimensions = 300\n",
    "num_layers = 1\n",
    "dropout = 0.0\n",
    "learning_rate = 0.001\n",
    "adam_weight_decay = 0.001\n",
    "bidirectional = False\n",
    "\n",
    "update_embeddings = True\n",
    "glove_embedding_dim = 300  # NOTE: I am using the 300D vectors instead of the 200D"
   ]
  },
  {
   "cell_type": "code",
   "execution_count": 362,
   "metadata": {
    "ExecuteTime": {
     "end_time": "2023-11-29T02:09:08.088810900Z",
     "start_time": "2023-11-29T02:09:07.445004300Z"
    }
   },
   "outputs": [],
   "source": [
    "\n",
    "# load the glove models\n",
    "# this actually takes a while so ill save the result\n",
    "if does_var_exists(F'glove_model_{glove_embedding_dim}d'):\n",
    "    glove_model = load_var(F'glove_model_{glove_embedding_dim}d')\n",
    "else:\n",
    "    glove_dataset_dir = F'./data/glove/glove.6B.{glove_embedding_dim}d.txt'\n",
    "    glove_output_vec_dir = F'./data/glove/glove.6B.{glove_embedding_dim}d.wv'\n",
    "    if not os.path.isfile(glove_output_vec_dir):\n",
    "        glove2word2vec(glove_dataset_dir, glove_output_vec_dir)\n",
    "    glove_model = KeyedVectors.load_word2vec_format(glove_output_vec_dir, binary=False)\n",
    "    dump_var(F'glove_model_{glove_embedding_dim}d', glove_model)"
   ]
  },
  {
   "cell_type": "code",
   "execution_count": 363,
   "metadata": {
    "ExecuteTime": {
     "end_time": "2023-11-29T02:09:08.088810900Z",
     "start_time": "2023-11-29T02:09:08.079811900Z"
    }
   },
   "outputs": [
    {
     "name": "stdout",
     "output_type": "stream",
     "text": [
      "The glove model has 400000 unique words.\n"
     ]
    }
   ],
   "source": [
    "print(f\"The glove model has {len(glove_model.key_to_index)} unique words.\")"
   ]
  },
  {
   "cell_type": "code",
   "execution_count": 364,
   "metadata": {
    "ExecuteTime": {
     "end_time": "2023-11-29T02:09:08.590540200Z",
     "start_time": "2023-11-29T02:09:08.088810900Z"
    }
   },
   "outputs": [],
   "source": [
    "# just a hack that I use in the next cell to trim the glove model to only include words and terms that also exist in the novel\n",
    "updated_persuasion_model = Word2Vec(sentences=persuasion_cleaned_sentences_and_words, vector_size=glove_embedding_dim, window=10, min_count=1, workers=4).wv"
   ]
  },
  {
   "cell_type": "code",
   "execution_count": 365,
   "metadata": {
    "ExecuteTime": {
     "end_time": "2023-11-29T02:09:14.137141300Z",
     "start_time": "2023-11-29T02:09:08.569542300Z"
    }
   },
   "outputs": [
    {
     "name": "stderr",
     "output_type": "stream",
     "text": [
      "100%|█████████████████████████████████████████████████████████████████████████████████████████████████████████████████████| 5958/5958 [00:05<00:00, 1059.34it/s]\n"
     ]
    }
   ],
   "source": [
    "# Update pre-trained GloVe embeddings removing words that dont exist in the novel\n",
    "for word in tqdm(updated_persuasion_model.key_to_index.keys()):\n",
    "    # we update over the persuasion model because the glove model has loads of words not in the novel\n",
    "    if word in glove_model:\n",
    "        updated_persuasion_model[word] = glove_model[word]\n",
    "    else:\n",
    "        # in theory, these weights shouldnt matter much because they will be updated anyways\n",
    "        updated_persuasion_model[word] = updated_persuasion_model[word]"
   ]
  },
  {
   "cell_type": "code",
   "execution_count": 366,
   "metadata": {
    "ExecuteTime": {
     "end_time": "2023-11-29T02:09:14.137141300Z",
     "start_time": "2023-11-29T02:09:14.128138100Z"
    }
   },
   "outputs": [
    {
     "name": "stderr",
     "output_type": "stream",
     "text": [
      "100%|██████████████████████████████████████████████████████████████████████████████████████████████████████████████████| 5958/5958 [00:00<00:00, 2169618.27it/s]\n"
     ]
    }
   ],
   "source": [
    "# And for words in the novel but not in the glove model, give them random weights\n",
    "for word in tqdm(words_set):\n",
    "    if word not in updated_persuasion_model.key_to_index:\n",
    "        updated_persuasion_model[word] = np.random.rand(glove_embedding_dim)"
   ]
  },
  {
   "cell_type": "code",
   "execution_count": 367,
   "metadata": {
    "ExecuteTime": {
     "end_time": "2023-11-29T02:09:14.138139800Z",
     "start_time": "2023-11-29T02:09:14.135173400Z"
    }
   },
   "outputs": [],
   "source": [
    "vocab_size = len(updated_persuasion_model.key_to_index)"
   ]
  },
  {
   "cell_type": "code",
   "execution_count": 368,
   "metadata": {
    "ExecuteTime": {
     "end_time": "2023-11-29T02:09:14.150147400Z",
     "start_time": "2023-11-29T02:09:14.138139800Z"
    }
   },
   "outputs": [
    {
     "name": "stdout",
     "output_type": "stream",
     "text": [
      "The updated glove model has 5958 unique words.\n"
     ]
    }
   ],
   "source": [
    "print(f\"The updated glove model has {vocab_size} unique words.\")"
   ]
  },
  {
   "cell_type": "code",
   "execution_count": 369,
   "metadata": {
    "ExecuteTime": {
     "end_time": "2023-11-29T02:09:14.150147400Z",
     "start_time": "2023-11-29T02:09:14.141140Z"
    }
   },
   "outputs": [],
   "source": [
    "# piazza post @464 implied we can do it another way and not using padding\n",
    "# I find using padding a waste of precious memory so... bye bye padding :)!\n",
    "# updated_persuasion_model['<pad>'] = np.zeros(200)"
   ]
  },
  {
   "cell_type": "code",
   "execution_count": 370,
   "metadata": {
    "ExecuteTime": {
     "end_time": "2023-11-29T02:09:14.226914400Z",
     "start_time": "2023-11-29T02:09:14.145139900Z"
    }
   },
   "outputs": [],
   "source": [
    "def word_to_index(word: str) -> int:\n",
    "    return updated_persuasion_model.key_to_index[word]"
   ]
  },
  {
   "cell_type": "code",
   "execution_count": 371,
   "metadata": {
    "ExecuteTime": {
     "end_time": "2023-11-29T02:09:14.243916400Z",
     "start_time": "2023-11-29T02:09:14.185702800Z"
    }
   },
   "outputs": [],
   "source": [
    "def index_to_word(index: int) -> str:\n",
    "    return updated_persuasion_model.index_to_key[index]"
   ]
  },
  {
   "cell_type": "code",
   "execution_count": 372,
   "metadata": {
    "ExecuteTime": {
     "end_time": "2023-11-29T02:09:17.792383700Z",
     "start_time": "2023-11-29T02:09:17.776378900Z"
    }
   },
   "outputs": [],
   "source": [
    "# now that we have updated glove, and we have a combined clean text, in order to extract the sequences\n",
    "# we need a big long text again\n",
    "\n",
    "tokens = ' '.join(persuasion_cleaned_sentences).split(' ')\n",
    "sequences = list()\n",
    "for i in range(sequence_length, len(tokens)):\n",
    "     # select sequence of tokens\n",
    "     seq = tokens[i-sequence_length:i]\n",
    "     # convert into a line\n",
    "     line = ' '.join(seq)\n",
    "     # store\n",
    "     sequences.append(line)"
   ]
  },
  {
   "cell_type": "code",
   "execution_count": 373,
   "metadata": {
    "ExecuteTime": {
     "end_time": "2023-11-29T02:09:18.201537200Z",
     "start_time": "2023-11-29T02:09:18.191538600Z"
    }
   },
   "outputs": [],
   "source": [
    "def seqToWordIndex(sequence: List[str]):  # sequence are lists of words\n",
    "    matrix = [word_to_index(w) for w in sequence]\n",
    "    return np.array(matrix)"
   ]
  },
  {
   "cell_type": "code",
   "execution_count": 374,
   "metadata": {
    "ExecuteTime": {
     "end_time": "2023-11-29T02:09:18.579872400Z",
     "start_time": "2023-11-29T02:09:18.558261200Z"
    }
   },
   "outputs": [
    {
     "data": {
      "text/plain": [
       "array([   1,   30,  147,   17,   11,   75,   16, 1827,    3,    2,  350])"
      ]
     },
     "execution_count": 374,
     "metadata": {},
     "output_type": "execute_result"
    }
   ],
   "source": [
    "seqToWordIndex(['<s>', 'anne', 'felt', 'that', 'she', 'did', 'not', 'belong', 'to', 'the', 'conversation'])"
   ]
  },
  {
   "cell_type": "code",
   "execution_count": 375,
   "metadata": {
    "ExecuteTime": {
     "end_time": "2023-11-29T02:09:22.423772100Z",
     "start_time": "2023-11-29T02:09:22.390634Z"
    }
   },
   "outputs": [],
   "source": [
    "def seqsToWordIndex(sequences: List[List[str]]):\n",
    "    res = [seqToWordIndex(x) for x in sequences]\n",
    "    return np.array(res)"
   ]
  },
  {
   "cell_type": "code",
   "execution_count": 376,
   "metadata": {
    "ExecuteTime": {
     "end_time": "2023-11-29T02:09:24.330254400Z",
     "start_time": "2023-11-29T02:09:24.296256500Z"
    }
   },
   "outputs": [],
   "source": [
    "def seqToWordEmbeddingMatrix(sequence: List[str]):\n",
    "    embeddings = [updated_persuasion_model[word] for word in sequence]\n",
    "    return np.array(embeddings)"
   ]
  },
  {
   "cell_type": "code",
   "execution_count": 377,
   "metadata": {
    "ExecuteTime": {
     "end_time": "2023-11-29T02:09:25.098139Z",
     "start_time": "2023-11-29T02:09:25.053623600Z"
    }
   },
   "outputs": [],
   "source": [
    "def seqsToWordEmbeddingMatrix(sequences: List[List[str]]):\n",
    "    embeddings = [seqToWordEmbeddingMatrix(sequence) for sequence in sequences]\n",
    "    return np.array(embeddings)"
   ]
  },
  {
   "cell_type": "code",
   "execution_count": 378,
   "metadata": {
    "ExecuteTime": {
     "end_time": "2023-11-29T02:09:25.649225400Z",
     "start_time": "2023-11-29T02:09:25.611646Z"
    }
   },
   "outputs": [],
   "source": [
    "def indexSeqToSent(index_seq: List[int]):\n",
    "    word_list = []\n",
    "    for i in index_seq:\n",
    "        word_list += [index_to_word(i)]\n",
    "    return ' '.join(word_list)"
   ]
  },
  {
   "cell_type": "code",
   "execution_count": 379,
   "metadata": {
    "ExecuteTime": {
     "end_time": "2023-11-29T02:09:26.900177200Z",
     "start_time": "2023-11-29T02:09:26.565392500Z"
    }
   },
   "outputs": [],
   "source": [
    "# convert sequences of words into sequences of vectors that each represent a word\n",
    "split_sequences = [seq.split(' ') for seq in sequences]\n",
    "full_seq = seqsToWordIndex(split_sequences)\n",
    "input_seq = full_seq[:-1]\n",
    "target_seq = full_seq[1:]"
   ]
  },
  {
   "cell_type": "code",
   "execution_count": 380,
   "metadata": {
    "ExecuteTime": {
     "end_time": "2023-11-29T02:09:27.689306200Z",
     "start_time": "2023-11-29T02:09:27.641765900Z"
    }
   },
   "outputs": [],
   "source": [
    "input_seq_tensor = torch.Tensor(input_seq).type(torch.LongTensor)"
   ]
  },
  {
   "cell_type": "code",
   "execution_count": 381,
   "metadata": {
    "ExecuteTime": {
     "end_time": "2023-11-29T02:09:29.209354600Z",
     "start_time": "2023-11-29T02:09:29.169264400Z"
    }
   },
   "outputs": [],
   "source": [
    "assert vocab_size == len(updated_persuasion_model.key_to_index)"
   ]
  },
  {
   "cell_type": "code",
   "execution_count": 382,
   "metadata": {
    "ExecuteTime": {
     "end_time": "2023-11-29T02:09:59.610566400Z",
     "start_time": "2023-11-29T02:09:30.014382700Z"
    }
   },
   "outputs": [
    {
     "name": "stderr",
     "output_type": "stream",
     "text": [
      "100%|███████████████████████████████████████████████████████████████████████████████████████████████████████████████████| 90105/90105 [00:29<00:00, 3050.38it/s]\n"
     ]
    }
   ],
   "source": [
    "# This was a one-hot encoding for the vocab - takes a POOP LOAD of memory\n",
    "target_seq_tensor = []\n",
    "for i in tqdm(range(len(target_seq))):\n",
    "    target_seq_tensor += [F.one_hot(torch.Tensor(target_seq[i]).type(torch.LongTensor), num_classes=vocab_size)]"
   ]
  },
  {
   "cell_type": "code",
   "execution_count": 383,
   "metadata": {
    "ExecuteTime": {
     "end_time": "2023-11-29T02:10:30.900375700Z",
     "start_time": "2023-11-29T02:09:59.597058800Z"
    }
   },
   "outputs": [],
   "source": [
    "target_seq_tensor = torch.stack(target_seq_tensor, dim=0)"
   ]
  },
  {
   "cell_type": "code",
   "execution_count": 384,
   "metadata": {
    "ExecuteTime": {
     "end_time": "2023-11-29T02:10:30.901378500Z",
     "start_time": "2023-11-29T02:10:30.881375100Z"
    }
   },
   "outputs": [
    {
     "name": "stdout",
     "output_type": "stream",
     "text": [
      "input shape: torch.Size([90105, 12])\n",
      "target shape: torch.Size([90105, 12, 5958])\n"
     ]
    }
   ],
   "source": [
    "print('input shape:', input_seq_tensor.shape)\n",
    "print('target shape:', target_seq_tensor.shape)"
   ]
  },
  {
   "cell_type": "code",
   "execution_count": 385,
   "metadata": {
    "ExecuteTime": {
     "end_time": "2023-11-29T02:10:30.901378500Z",
     "start_time": "2023-11-29T02:10:30.881375100Z"
    }
   },
   "outputs": [
    {
     "data": {
      "text/plain": [
       "90105"
      ]
     },
     "execution_count": 385,
     "metadata": {},
     "output_type": "execute_result"
    }
   ],
   "source": [
    "class PersuasionDataset(Dataset):\n",
    "\n",
    "        def __init__(self, input_words, target_words):\n",
    "            assert len(input_words) == len(target_words)\n",
    "            self.input_words = input_words\n",
    "            self.target_words = target_words\n",
    "\n",
    "        def __len__(self):\n",
    "            return len(self.input_words)\n",
    "\n",
    "        def __getitem__(self, idx):\n",
    "            # given the input, I'm trying to predict the last element of target_words\n",
    "            return self.input_words[idx], self.target_words[idx][-1]\n",
    "\n",
    "ds = PersuasionDataset(input_seq_tensor,target_seq_tensor)\n",
    "ds.__len__()"
   ]
  },
  {
   "cell_type": "code",
   "execution_count": 386,
   "metadata": {
    "ExecuteTime": {
     "end_time": "2023-11-29T02:10:30.901378500Z",
     "start_time": "2023-11-29T02:10:30.884376200Z"
    }
   },
   "outputs": [
    {
     "data": {
      "text/plain": [
       "array([  51,    8,    2, 2826,   25,   35,    2,  991, 1844,  111,  873,\n",
       "         50])"
      ]
     },
     "execution_count": 386,
     "metadata": {},
     "output_type": "execute_result"
    }
   ],
   "source": [
    "input_seq[1]"
   ]
  },
  {
   "cell_type": "code",
   "execution_count": 387,
   "metadata": {
    "ExecuteTime": {
     "end_time": "2023-11-29T02:10:30.901378500Z",
     "start_time": "2023-11-29T02:10:30.885376200Z"
    }
   },
   "outputs": [
    {
     "data": {
      "text/plain": [
       "array([  51,    8,    2, 2826,   25,   35,    2,  991, 1844,  111,  873,\n",
       "         50])"
      ]
     },
     "execution_count": 387,
     "metadata": {},
     "output_type": "execute_result"
    }
   ],
   "source": [
    "target_seq[0]"
   ]
  },
  {
   "cell_type": "code",
   "execution_count": 388,
   "metadata": {
    "ExecuteTime": {
     "end_time": "2023-11-29T02:10:30.901378500Z",
     "start_time": "2023-11-29T02:10:30.885376200Z"
    }
   },
   "outputs": [
    {
     "data": {
      "text/plain": [
       "tensor([  51,    8,    2, 2826,   25,   35,    2,  991, 1844,  111,  873,   50])"
      ]
     },
     "execution_count": 388,
     "metadata": {},
     "output_type": "execute_result"
    }
   ],
   "source": [
    "input_seq_tensor[1]"
   ]
  },
  {
   "cell_type": "code",
   "execution_count": 389,
   "metadata": {
    "ExecuteTime": {
     "end_time": "2023-11-29T02:10:30.902383500Z",
     "start_time": "2023-11-29T02:10:30.885376200Z"
    }
   },
   "outputs": [
    {
     "data": {
      "text/plain": [
       "tensor([[0, 0, 0,  ..., 0, 0, 0],\n",
       "        [0, 0, 0,  ..., 0, 0, 0],\n",
       "        [0, 0, 1,  ..., 0, 0, 0],\n",
       "        ...,\n",
       "        [0, 0, 0,  ..., 0, 0, 0],\n",
       "        [0, 0, 0,  ..., 0, 0, 0],\n",
       "        [0, 0, 0,  ..., 0, 0, 0]])"
      ]
     },
     "execution_count": 389,
     "metadata": {},
     "output_type": "execute_result"
    }
   ],
   "source": [
    "target_seq_tensor[0]"
   ]
  },
  {
   "cell_type": "code",
   "execution_count": 390,
   "metadata": {
    "ExecuteTime": {
     "end_time": "2023-11-29T02:10:30.902383500Z",
     "start_time": "2023-11-29T02:10:30.885376200Z"
    }
   },
   "outputs": [
    {
     "data": {
      "text/plain": [
       "tensor([[0, 1, 0,  ..., 0, 0, 0],\n",
       "        [0, 0, 0,  ..., 0, 0, 0],\n",
       "        [0, 0, 0,  ..., 0, 0, 0],\n",
       "        ...,\n",
       "        [0, 0, 0,  ..., 0, 0, 0],\n",
       "        [0, 0, 0,  ..., 0, 0, 0],\n",
       "        [0, 0, 0,  ..., 0, 0, 0]])"
      ]
     },
     "execution_count": 390,
     "metadata": {},
     "output_type": "execute_result"
    }
   ],
   "source": [
    "F.one_hot(input_seq_tensor[0], num_classes=vocab_size)"
   ]
  },
  {
   "cell_type": "code",
   "execution_count": 391,
   "metadata": {
    "ExecuteTime": {
     "end_time": "2023-11-29T02:10:30.902383500Z",
     "start_time": "2023-11-29T02:10:30.886378200Z"
    }
   },
   "outputs": [
    {
     "data": {
      "text/plain": [
       "tensor([[0, 0, 0,  ..., 0, 0, 0],\n",
       "        [0, 0, 0,  ..., 0, 0, 0],\n",
       "        [0, 0, 1,  ..., 0, 0, 0],\n",
       "        ...,\n",
       "        [0, 0, 0,  ..., 0, 0, 0],\n",
       "        [0, 0, 0,  ..., 0, 0, 0],\n",
       "        [0, 0, 0,  ..., 0, 0, 0]])"
      ]
     },
     "execution_count": 391,
     "metadata": {},
     "output_type": "execute_result"
    }
   ],
   "source": [
    "target_seq_tensor[0]"
   ]
  },
  {
   "cell_type": "code",
   "execution_count": 392,
   "metadata": {
    "ExecuteTime": {
     "end_time": "2023-11-29T02:10:30.902383500Z",
     "start_time": "2023-11-29T02:10:30.886378200Z"
    }
   },
   "outputs": [],
   "source": [
    "data_loader = DataLoader(ds, batch_size=batch_size, shuffle=True)"
   ]
  },
  {
   "cell_type": "code",
   "execution_count": 393,
   "metadata": {
    "ExecuteTime": {
     "end_time": "2023-11-29T02:10:30.902383500Z",
     "start_time": "2023-11-29T02:10:30.886378200Z"
    }
   },
   "outputs": [
    {
     "name": "stdout",
     "output_type": "stream",
     "text": [
      "GPU is available\n"
     ]
    }
   ],
   "source": [
    "# torch.cuda.is_available() checks and returns a Boolean True if a GPU is available, else it'll return False\n",
    "is_cuda = torch.cuda.is_available()\n",
    "# If we have a GPU available, we'll set our device to GPU. We'll use this device variable later in our code.\n",
    "if is_cuda:\n",
    "    device = torch.device(\"cuda\")\n",
    "    print(\"GPU is available\")\n",
    "else:\n",
    "    device = torch.device(\"cpu\")\n",
    "    print(\"GPU not available, CPU used\")"
   ]
  },
  {
   "cell_type": "code",
   "execution_count": 412,
   "metadata": {
    "ExecuteTime": {
     "end_time": "2023-11-29T02:12:26.487472Z",
     "start_time": "2023-11-29T02:12:26.436130200Z"
    }
   },
   "outputs": [],
   "source": [
    "class Model(nn.Module):\n",
    "    def __init__(self, hidden_dim, n_layers, dropout, bidirectional):\n",
    "        super(Model, self).__init__()\n",
    "\n",
    "        # Defining some parameters\n",
    "        self.hidden_dim = hidden_dim\n",
    "        self.n_layers = n_layers\n",
    "\n",
    "        self.embedding = nn.Embedding.from_pretrained(torch.FloatTensor(updated_persuasion_model.vectors), freeze=not update_embeddings)\n",
    "\n",
    "        #Defining the layers\n",
    "        self.lstm = nn.LSTM(glove_embedding_dim, hidden_dim, num_layers=n_layers, batch_first=True,\n",
    "                            dropout=dropout, bidirectional=bidirectional)\n",
    "        # Fully connected layer\n",
    "        self.fc1 = nn.Linear(hidden_dim * 2 if bidirectional else hidden_dim, glove_embedding_dim)\n",
    "        self.fc2 = nn.Linear(glove_embedding_dim, vocab_size)\n",
    "\n",
    "\n",
    "    # written by help of chat gpt\n",
    "    def forward(self, x):\n",
    "\n",
    "        x = self.embedding(x)\n",
    "\n",
    "        # Initialize hidden state with zeros\n",
    "        h0 = torch.zeros(self.n_layers * 2 if self.lstm.bidirectional else self.n_layers, x.size(0), self.hidden_dim).double().requires_grad_().to(device)\n",
    "\n",
    "        # Initialize cell state\n",
    "        c0 = torch.zeros(self.n_layers * 2 if self.lstm.bidirectional else self.n_layers, x.size(0), self.hidden_dim).double().requires_grad_().to(device)\n",
    "\n",
    "        # for contigious memory\n",
    "        self.lstm.flatten_parameters()\n",
    "\n",
    "        # We need to detach as we are doing truncated backpropagation through time (BPTT)\n",
    "        # If we don't, we'll backprop all the way to the start even after going through another batch\n",
    "        out, (hn, cn) = self.lstm(x, (h0.detach(), c0.detach()))\n",
    "\n",
    "        ## Index hidden state of last time step\n",
    "        out = F.relu(self.fc1(out[:, -1, :]))  # Apply ReLU activation to fc1 output\n",
    "        out = self.fc2(out)  # No activation function applied to fc2\n",
    "\n",
    "        return out"
   ]
  },
  {
   "cell_type": "code",
   "execution_count": 413,
   "metadata": {
    "ExecuteTime": {
     "end_time": "2023-11-29T02:12:27.688706100Z",
     "start_time": "2023-11-29T02:12:27.602188100Z"
    }
   },
   "outputs": [
    {
     "name": "stdout",
     "output_type": "stream",
     "text": [
      "Model(\n",
      "  (embedding): Embedding(5958, 300)\n",
      "  (lstm): LSTM(300, 300, batch_first=True)\n",
      "  (fc1): Linear(in_features=300, out_features=300, bias=True)\n",
      "  (fc2): Linear(in_features=300, out_features=5958, bias=True)\n",
      ")\n"
     ]
    }
   ],
   "source": [
    "# Instantiate the model with hyperparameters\n",
    "model = Model(hidden_dim=hidden_dimensions, n_layers=num_layers,dropout=dropout, bidirectional=bidirectional)\n",
    "print(model)\n",
    "model = nn.DataParallel(model)\n",
    "model = model.double().to(device)\n",
    "# Define Loss, Optimizer\n",
    "loss_fn = nn.CrossEntropyLoss()  # this loss function is better for continuous values and CrossEntropy is better for classification. Here we are trying to predict word vectors.\n",
    "optimizer = torch.optim.Adam(model.parameters(), lr=learning_rate,weight_decay=adam_weight_decay)\n",
    "losses = []"
   ]
  },
  {
   "cell_type": "code",
   "execution_count": 118,
   "metadata": {
    "ExecuteTime": {
     "end_time": "2023-11-26T04:00:47.480299100Z",
     "start_time": "2023-11-26T03:38:57.618496200Z"
    }
   },
   "outputs": [
    {
     "name": "stderr",
     "output_type": "stream",
     "text": [
      "100%|███████████████████████████████████████████████████████████████████████████████████████████████████████████████████████████████████████████████████████████████████████████| 42/42 [21:49<00:00, 31.19s/it]\n"
     ]
    }
   ],
   "source": [
    "num_epochs = 42\n",
    "\n",
    "model.train()\n",
    "\n",
    "for epoch in tqdm(range(num_epochs)):\n",
    "    for input_sequences, target_sequences in data_loader:\n",
    "        input_sequences = input_sequences.to(device)\n",
    "        target_sequences = target_sequences.to(device)\n",
    "\n",
    "        optimizer.zero_grad()\n",
    "        output = model(input_sequences)\n",
    "\n",
    "        loss = loss_fn(output, target_sequences.double())\n",
    "\n",
    "        loss.backward()\n",
    "        optimizer.step()\n",
    "\n",
    "    losses.append(loss.item())"
   ]
  },
  {
   "cell_type": "code",
   "execution_count": 121,
   "metadata": {
    "ExecuteTime": {
     "end_time": "2023-11-26T04:56:09.664472400Z",
     "start_time": "2023-11-26T04:56:09.396917500Z"
    }
   },
   "outputs": [
    {
     "name": "stdout",
     "output_type": "stream",
     "text": [
      "Avg Losses For Last 5 Epochs:  0.24496509648035106\n"
     ]
    },
    {
     "data": {
      "image/png": "[encoded data removed]",
      "text/plain": [
       "<Figure size 640x480 with 1 Axes>"
      ]
     },
     "metadata": {},
     "output_type": "display_data"
    }
   ],
   "source": [
    "plt.title('Loss')\n",
    "plt.plot(losses)\n",
    "print(\"Avg Losses For Last 5 Epochs: \", statistics.mean(losses[-5:]))"
   ]
  },
  {
   "cell_type": "code",
   "execution_count": 122,
   "metadata": {
    "ExecuteTime": {
     "end_time": "2023-11-26T04:56:20.243078900Z",
     "start_time": "2023-11-26T04:56:19.960126Z"
    }
   },
   "outputs": [],
   "source": [
    "#torch.save(model, 'problem_2_working.13.model')"
   ]
  },
  {
   "cell_type": "code",
   "execution_count": 429,
   "metadata": {
    "ExecuteTime": {
     "end_time": "2023-11-29T02:13:03.904778500Z",
     "start_time": "2023-11-29T02:13:03.875813800Z"
    }
   },
   "outputs": [],
   "source": [
    "def softmax_with_temperature(vec, temperature):\n",
    "    sum_exp = sum(math.exp(x/temperature) for x in vec)\n",
    "    return [math.exp(x/temperature)/sum_exp for x in vec]"
   ]
  },
  {
   "cell_type": "code",
   "execution_count": 430,
   "metadata": {
    "ExecuteTime": {
     "end_time": "2023-11-29T02:13:04.544867100Z",
     "start_time": "2023-11-29T02:13:04.262603900Z"
    }
   },
   "outputs": [
    {
     "data": {
      "text/plain": [
       "'own'"
      ]
     },
     "execution_count": 430,
     "metadata": {},
     "output_type": "execute_result"
    }
   ],
   "source": [
    "temperature = 0.2\n",
    "\n",
    "def split(raw_sent):\n",
    "    return raw_sent.lower().split(' ')\n",
    "\n",
    "def predict(model, word_seq):\n",
    "\n",
    "    # only look at last sequence_length - 1 characters\n",
    "    word_seq = word_seq[-(sequence_length - 1):]\n",
    "\n",
    "    # One-hot encoding our input to fit into the model\n",
    "    word_seq = seqsToWordIndex([word_seq])\n",
    "    word_seq = torch.from_numpy(word_seq).to(device)\n",
    "\n",
    "    model.eval()\n",
    "    out = model(word_seq)\n",
    "\n",
    "    # take the probability distribution of the last character in the sequence produced by the model\n",
    "    prob = softmax_with_temperature(out[-1],temperature)\n",
    "\n",
    "    # Choosing a character based on the probability distribution, with temperature\n",
    "    word_ind = choice(list(range(vocab_size)), p=prob)\n",
    "\n",
    "    return index_to_word(word_ind)\n",
    "\n",
    "predict(model, ['<s>', 'anne', 'felt', 'that', 'she', 'did', 'not', 'belong', 'to', 'the'])"
   ]
  },
  {
   "cell_type": "code",
   "execution_count": 431,
   "metadata": {
    "ExecuteTime": {
     "end_time": "2023-11-29T02:13:06.420769900Z",
     "start_time": "2023-11-29T02:13:06.387767600Z"
    }
   },
   "outputs": [],
   "source": [
    "def sample(model, start):\n",
    "    model.eval() # eval mode\n",
    "    # First off, run through the starting characters\n",
    "    words = [w for w in start]\n",
    "    # Now pass in the previous characters and get a new one\n",
    "    a_word = '<s>'\n",
    "    while a_word != '</s>':\n",
    "        a_word = predict(model, words)\n",
    "        words.append(a_word)\n",
    "\n",
    "    return words"
   ]
  },
  {
   "cell_type": "markdown",
   "metadata": {
    "id": "VnB5z-ZoZEa5"
   },
   "source": [
    "### Beam Search\n",
    "\n",
    "Beam search was described, and example shown, in Lecture 14. Here is a brief pseudo-code explaination of what\n",
    "you need to do:\n",
    "\n",
    "1. Develop your code as described above so that it can generate single sentences;\n",
    "2. Copy enough of your code over from HW 03 so that you can calculate the perplexity of\n",
    "        sentences (using the entire novel, or perhaps even a number of Jane Austen's novels as\n",
    "        the data source). As an alternative, you may wish to do this separately, store the nested dictionary\n",
    "        using Pickle, and load it here. \n",
    "3. Calculate the probability distribution of sentences in your data source that you used in the previous step, similar to what you did at the end of HW 01. \n",
    "4. Create a \"goodness function\" which estimates the quality of a sentence as the perplexity times the probability of its length.  This will be applied to all sequences of words, and not just sentences, but as a first approximation this is a way to attempt to make the distribution of sentence lengths similar to that in the novel.\n",
    "5. Follow the description in slide 7 of Lecture 14 to generate until you have 10 finished sentences. Print these out with their perplexity, probability of their length, and the combined goodness metric."
   ]
  },
  {
   "cell_type": "code",
   "execution_count": 432,
   "metadata": {
    "ExecuteTime": {
     "end_time": "2023-11-29T02:13:08.618876300Z",
     "start_time": "2023-11-29T02:13:08.589877Z"
    },
    "collapsed": false
   },
   "outputs": [],
   "source": [
    "# Get a list of Jane Austen's novels\n",
    "austen_novels = [\n",
    "    'austen-emma.txt',\n",
    "    'austen-persuasion.txt',\n",
    "    'austen-sense.txt'\n",
    "]\n",
    "\n",
    "# Concatenate the novels\n",
    "raw_texts_list = []\n",
    "for novel in austen_novels:\n",
    "    raw_texts_list += [gutenberg.raw(novel)]"
   ]
  },
  {
   "cell_type": "code",
   "execution_count": 433,
   "metadata": {
    "ExecuteTime": {
     "end_time": "2023-11-29T02:13:09.181007200Z",
     "start_time": "2023-11-29T02:13:09.134492900Z"
    },
    "collapsed": false
   },
   "outputs": [],
   "source": [
    "# this boy takes 10 yrs to load\n",
    "if does_var_exists('texts_sentence_list'):\n",
    "    texts_sentence_list = load_var('texts_sentence_list')\n",
    "else:\n",
    "    texts_sentence_list = []\n",
    "    for i in tqdm(range(len(raw_texts_list))):\n",
    "        texts_sentence_list.append(raw_text_to_sentences(raw_texts_list[i]))\n",
    "    dump_var('texts_sentence_list', texts_sentence_list)"
   ]
  },
  {
   "cell_type": "code",
   "execution_count": 434,
   "metadata": {
    "ExecuteTime": {
     "end_time": "2023-11-29T02:13:09.606082500Z",
     "start_time": "2023-11-29T02:13:09.390043200Z"
    },
    "collapsed": false
   },
   "outputs": [
    {
     "name": "stderr",
     "output_type": "stream",
     "text": [
      "100%|█████████████████████████████████████████████████████████████████████████████████████████████████████████████████████████████| 3/3 [00:00<00:00, 17.93it/s]\n"
     ]
    }
   ],
   "source": [
    "for i in tqdm(range(len(texts_sentence_list))):\n",
    "    texts_sentence_list[i] = clean_sentences(texts_sentence_list[i])"
   ]
  },
  {
   "cell_type": "code",
   "execution_count": 435,
   "metadata": {
    "ExecuteTime": {
     "end_time": "2023-11-29T02:13:09.669615900Z",
     "start_time": "2023-11-29T02:13:09.593083500Z"
    },
    "collapsed": false
   },
   "outputs": [],
   "source": [
    "concatenated_novel_sentences = []\n",
    "for sublist in texts_sentence_list:\n",
    "    concatenated_novel_sentences.extend(sublist)"
   ]
  },
  {
   "cell_type": "code",
   "execution_count": 436,
   "metadata": {
    "ExecuteTime": {
     "end_time": "2023-11-29T02:13:09.892640200Z",
     "start_time": "2023-11-29T02:13:09.808127600Z"
    },
    "collapsed": false
   },
   "outputs": [],
   "source": [
    "concatenated_texts = []\n",
    "for sublist in concatenated_novel_sentences:\n",
    "    concatenated_texts.append(sublist.split(' '))"
   ]
  },
  {
   "cell_type": "code",
   "execution_count": 437,
   "metadata": {
    "ExecuteTime": {
     "end_time": "2023-11-29T02:13:10.095699400Z",
     "start_time": "2023-11-29T02:13:09.966160600Z"
    },
    "collapsed": false
   },
   "outputs": [
    {
     "data": {
      "text/plain": [
       "[['<s>',\n",
       "  'she',\n",
       "  'was',\n",
       "  'the',\n",
       "  'youngest',\n",
       "  'of',\n",
       "  'the',\n",
       "  'two',\n",
       "  'daughters',\n",
       "  'of',\n",
       "  'a',\n",
       "  'most',\n",
       "  'affectionate',\n",
       "  'indulgent',\n",
       "  'father',\n",
       "  'and',\n",
       "  'had',\n",
       "  'in',\n",
       "  'consequence',\n",
       "  'of',\n",
       "  'her',\n",
       "  'sisters',\n",
       "  'marriage',\n",
       "  'been',\n",
       "  'mistress',\n",
       "  'of',\n",
       "  'his',\n",
       "  'house',\n",
       "  'from',\n",
       "  'a',\n",
       "  'very',\n",
       "  'early',\n",
       "  'period',\n",
       "  '</s>']]"
      ]
     },
     "execution_count": 437,
     "metadata": {},
     "output_type": "execute_result"
    }
   ],
   "source": [
    "concatenated_texts[:1]"
   ]
  },
  {
   "cell_type": "code",
   "execution_count": 438,
   "metadata": {
    "ExecuteTime": {
     "end_time": "2023-11-29T02:13:10.490337100Z",
     "start_time": "2023-11-29T02:13:10.271288Z"
    },
    "collapsed": false
   },
   "outputs": [],
   "source": [
    "Ngrams : List[List[tuple]] = [[] for _ in range(5)]    # first slot is empty, then Ngram[1] will hold unigrams, Ngram[2] will hold bigrams, etc.\n",
    "for sentence in concatenated_texts:\n",
    "    for t in range(1, 5): # 1-4 tuples\n",
    "        Ngrams[t] += nltk.ngrams(sentence, t)"
   ]
  },
  {
   "cell_type": "code",
   "execution_count": 439,
   "metadata": {
    "ExecuteTime": {
     "end_time": "2023-11-29T02:13:10.645900100Z",
     "start_time": "2023-11-29T02:13:10.575895500Z"
    }
   },
   "outputs": [],
   "source": [
    "def get_Ngram_distribution(N: int):\n",
    "    freq_dict = [Counter(ngram) for ngram in Ngrams]\n",
    "    distribution : Dict[str, float] = defaultdict(float)\n",
    "    for val in freq_dict[N]:\n",
    "        distribution[val] = freq_dict[N][val] / len(Ngrams[N])\n",
    "    return distribution"
   ]
  },
  {
   "cell_type": "code",
   "execution_count": 440,
   "metadata": {
    "ExecuteTime": {
     "end_time": "2023-11-29T02:13:13.097517300Z",
     "start_time": "2023-11-29T02:13:11.217225500Z"
    }
   },
   "outputs": [],
   "source": [
    "Ngram_distribution = [[]]*5\n",
    "for N in range(1,5):\n",
    "    Ngram_distribution[N] = get_Ngram_distribution(N)"
   ]
  },
  {
   "cell_type": "code",
   "execution_count": 441,
   "metadata": {
    "ExecuteTime": {
     "end_time": "2023-11-29T02:13:13.101516800Z",
     "start_time": "2023-11-29T02:13:13.099519200Z"
    }
   },
   "outputs": [],
   "source": [
    "def PN(N: int,W: tuple):\n",
    "    assert N == len(W)\n",
    "    numerator = Ngram_distribution[N][W]\n",
    "    # no denominator for N=1\n",
    "    if N == 1:\n",
    "        return numerator\n",
    "    denominator = Ngram_distribution[N-1][W[:-1]]\n",
    "    if denominator == 0:\n",
    "        return 0\n",
    "    prob = numerator / denominator\n",
    "    return prob"
   ]
  },
  {
   "cell_type": "code",
   "execution_count": 442,
   "metadata": {
    "ExecuteTime": {
     "end_time": "2023-11-29T02:13:13.106518900Z",
     "start_time": "2023-11-29T02:13:13.103527300Z"
    }
   },
   "outputs": [],
   "source": [
    "def P(N:int, W: tuple) -> float:\n",
    "    list_len = len(W)\n",
    "\n",
    "    win = 0\n",
    "    def increment_window():\n",
    "        return win + 1 if win + 1 <= N else N\n",
    "    if N != 1: # 1 is a special case\n",
    "        win = increment_window()\n",
    "\n",
    "    total_prob = 1\n",
    "    # build up to the nth gram\n",
    "    while win != N:\n",
    "        win = increment_window()\n",
    "        total_prob *= PN(win, W[:win])\n",
    "\n",
    "    for i in range(1, list_len - (N - 1)):\n",
    "        # for remaining terms, slide over the n-gram window until end\n",
    "        total_prob *= PN(win, W[i:i+win])\n",
    "    return total_prob"
   ]
  },
  {
   "cell_type": "code",
   "execution_count": 443,
   "metadata": {
    "ExecuteTime": {
     "end_time": "2023-11-29T02:13:13.109516600Z",
     "start_time": "2023-11-29T02:13:13.107521300Z"
    }
   },
   "outputs": [],
   "source": [
    "def PN_with_stupid_backoff(N, W):\n",
    "    if N > len(W):\n",
    "        N = len(W)\n",
    "    prob = PN(N, W) or (PN_with_stupid_backoff(N - 1, W[1:]) * 0.4)\n",
    "    return prob"
   ]
  },
  {
   "cell_type": "code",
   "execution_count": 444,
   "metadata": {
    "ExecuteTime": {
     "end_time": "2023-11-29T02:13:13.114518600Z",
     "start_time": "2023-11-29T02:13:13.112520400Z"
    }
   },
   "outputs": [],
   "source": [
    "def P_stupid_backoff(N,W):\n",
    "    list_len = len(W)\n",
    "\n",
    "    win = 0\n",
    "    def increment_window():\n",
    "        return win + 1 if win + 1 <= N else N\n",
    "    if N != 1: # 1 is a special case\n",
    "        win = increment_window()\n",
    "\n",
    "    total_prob = 0\n",
    "    # build up to the nth gram\n",
    "    while win != N:\n",
    "        win = increment_window()\n",
    "        total_prob *= PN_with_stupid_backoff(win, W[:win])\n",
    "\n",
    "    # calculate probability in log space\n",
    "    for i in range(1, list_len - (N - 1)):\n",
    "        total_prob += math.log(PN_with_stupid_backoff(win, W[i:i+win]))\n",
    "    return math.exp(total_prob)  # back to the normal space from log space"
   ]
  },
  {
   "cell_type": "code",
   "execution_count": 445,
   "metadata": {
    "ExecuteTime": {
     "end_time": "2023-11-29T02:13:13.118524300Z",
     "start_time": "2023-11-29T02:13:13.115516900Z"
    }
   },
   "outputs": [],
   "source": [
    "def PP(N,W):\n",
    "    W = tuple(W)\n",
    "    return P_stupid_backoff(N, W) ** -(1/len(W[1:]))"
   ]
  },
  {
   "cell_type": "code",
   "execution_count": 449,
   "metadata": {
    "ExecuteTime": {
     "end_time": "2023-11-29T02:14:02.011434500Z",
     "start_time": "2023-11-29T02:13:51.087179700Z"
    },
    "collapsed": false
   },
   "outputs": [
    {
     "data": {
      "text/plain": [
       "'<s> anne felt that she did not belong to the own because she could not reconcile the door suffering even of the cause of all the exercise which one days had required increased and only at all checked to the rest of captain wentworths fine face was gone </s>'"
      ]
     },
     "execution_count": 449,
     "metadata": {},
     "output_type": "execute_result"
    }
   ],
   "source": [
    "model = torch.load('problem_2_working.13.model')\n",
    "generated_sent = sample(model, ['<s>', 'anne', 'felt', 'that', 'she', 'did', 'not', 'belong', 'to', 'the'])\n",
    "# Non-beam searched sentence\n",
    "' '.join(generated_sent)"
   ]
  },
  {
   "cell_type": "code",
   "execution_count": 450,
   "metadata": {
    "ExecuteTime": {
     "end_time": "2023-11-29T02:14:02.016435200Z",
     "start_time": "2023-11-29T02:14:02.010435100Z"
    },
    "collapsed": false
   },
   "outputs": [
    {
     "data": {
      "text/plain": [
       "194.77677072460642"
      ]
     },
     "execution_count": 450,
     "metadata": {},
     "output_type": "execute_result"
    }
   ],
   "source": [
    "PP(4,tuple(generated_sent))"
   ]
  },
  {
   "cell_type": "code",
   "execution_count": 451,
   "metadata": {
    "ExecuteTime": {
     "end_time": "2023-11-29T02:14:48.280097900Z",
     "start_time": "2023-11-29T02:14:48.233029500Z"
    },
    "collapsed": false
   },
   "outputs": [],
   "source": [
    "# adapted from hw1\n",
    "def calc_weighted_avg(percentages, lengths):\n",
    "  avg = 0\n",
    "  for i in range(len(percentages)):\n",
    "    avg += (percentages[i]/100) * lengths[i]\n",
    "  return avg\n",
    "\n",
    "# create counter of the paragraph legnths\n",
    "sentence_length_counter = Counter()\n",
    "sentence_lengths = [len(x.split(' ')) for x in concatenated_novel_sentences]\n",
    "for item in sentence_lengths:\n",
    "  sentence_length_counter[item] += 1\n",
    "\n",
    "# normalization to prevent division by zero in the goodness calculation\n",
    "for i in range(max(sentence_lengths)):\n",
    "    sentence_length_counter[i] += 1\n",
    "\n",
    "# sort counter by key\n",
    "counter_list = list(sorted(sentence_length_counter.items(), key=lambda item: item[0]))\n",
    "\n",
    "sentencesLen = len(concatenated_novel_sentences)\n",
    "values = list(map(lambda x: x/sentencesLen, sentence_length_counter.values()))\n",
    "sent_length_distribution_dict = dict(zip(list(sentence_length_counter.keys()), values))\n",
    "\n",
    "def get_probability_of_length(length) -> float:\n",
    "    if length in sent_length_distribution_dict:\n",
    "        return sent_length_distribution_dict[length]\n",
    "    else:\n",
    "        return 0"
   ]
  },
  {
   "cell_type": "code",
   "execution_count": 452,
   "metadata": {
    "ExecuteTime": {
     "end_time": "2023-11-29T02:14:49.048575300Z",
     "start_time": "2023-11-29T02:14:48.687999900Z"
    },
    "collapsed": false
   },
   "outputs": [
    {
     "data": {
      "image/png": "[encoded data removed]",
      "text/plain": [
       "<Figure size 800x400 with 1 Axes>"
      ]
     },
     "metadata": {},
     "output_type": "display_data"
    }
   ],
   "source": [
    "plt.figure(figsize=(8,4))\n",
    "x = range(max(sentence_length_counter))\n",
    "y = [get_probability_of_length(v) * 100 for v in range(max(sentence_length_counter))]\n",
    "plt.bar(x, y)\n",
    "plt.title(\"Sentence Length Percentages Visualized\")\n",
    "plt.xlabel(\"Length\")\n",
    "plt.ylabel(\"Percentage\")\n",
    "plt.show()"
   ]
  },
  {
   "cell_type": "code",
   "execution_count": 453,
   "metadata": {
    "ExecuteTime": {
     "end_time": "2023-11-29T02:14:49.326481800Z",
     "start_time": "2023-11-29T02:14:49.234475100Z"
    },
    "collapsed": false
   },
   "outputs": [],
   "source": [
    "def goodness_function(N, sample_sentence):\n",
    "    W = tuple(sample_sentence)\n",
    "    perplexity = P_stupid_backoff(N, W)\n",
    "    probability_of_length = get_probability_of_length(len(W))\n",
    "    return (perplexity * probability_of_length) ** -(1/len(W[1:]))"
   ]
  },
  {
   "cell_type": "code",
   "execution_count": 454,
   "metadata": {
    "ExecuteTime": {
     "end_time": "2023-11-29T02:14:50.087044800Z",
     "start_time": "2023-11-29T02:14:50.054180700Z"
    },
    "collapsed": false
   },
   "outputs": [
    {
     "data": {
      "text/plain": [
       "216.66980522599928"
      ]
     },
     "execution_count": 454,
     "metadata": {},
     "output_type": "execute_result"
    }
   ],
   "source": [
    "goodness_function(4, generated_sent)"
   ]
  },
  {
   "cell_type": "code",
   "execution_count": 455,
   "metadata": {
    "ExecuteTime": {
     "end_time": "2023-11-29T02:14:51.130088900Z",
     "start_time": "2023-11-29T02:14:51.092527600Z"
    },
    "collapsed": false
   },
   "outputs": [],
   "source": [
    "def get_top_n_predictions(model, word_seq, N):\n",
    "    model.eval()\n",
    "\n",
    "    # only look at last sequence_length - 1 characters\n",
    "    word_seq = word_seq[-(sequence_length - 1):]\n",
    "\n",
    "    # One-hot encoding our input to fit into the model\n",
    "    input_seq = seqsToWordIndex([word_seq])\n",
    "    input_seq = torch.from_numpy(input_seq).to(device)\n",
    "    out = model(input_seq)\n",
    "\n",
    "    # take the probability distribution of the last character in the sequence produced by the model\n",
    "    prob = softmax_with_temperature(out[-1],temperature)\n",
    "\n",
    "    # Choosing a character based on the probability distribution, with temperature\n",
    "    top_n_indices = topk(torch.tensor(prob), N)[1]\n",
    "    return [(index_to_word(index.item()), prob[index]) for index in top_n_indices]\n",
    "\n",
    "def beam_predict(model, word_seq, N, M):\n",
    "    if M == 0:\n",
    "        return []\n",
    "\n",
    "    top_n_predictions = get_top_n_predictions(model, word_seq, N)\n",
    "\n",
    "    candidates = []\n",
    "    for predicted_word, word_probability in top_n_predictions:\n",
    "        candidate_seq = word_seq + [predicted_word]\n",
    "        if M == 1 or predicted_word == '</s>':\n",
    "            candidates += [(goodness_function(4, candidate_seq), candidate_seq)]\n",
    "        else:\n",
    "            recursive_candidates = beam_predict(model, candidate_seq, N, M-1)\n",
    "            candidates += recursive_candidates\n",
    "\n",
    "    return candidates\n",
    "\n",
    "def beam_search(model, word_seq, N, M):\n",
    "    best = sorted(beam_predict(model, word_seq, N, M), key=lambda item: item[0])\n",
    "    return best[0]\n",
    "\n",
    "def beam_search_generator(model, initial_seq, N, M):\n",
    "    \"\"\"\n",
    "    :param model: the model\n",
    "    :param initial_seq: the starters sentence\n",
    "    :param N: beam width\n",
    "    :param M: beam depth\n",
    "    :return: the new sentence\n",
    "    \"\"\"\n",
    "    last_seq = initial_seq[-1]\n",
    "    while last_seq != '</s>':\n",
    "        best_result = beam_search(model, initial_seq, N, M)\n",
    "        initial_seq = best_result[1]\n",
    "        last_seq = initial_seq[-1]\n",
    "    return initial_seq"
   ]
  },
  {
   "cell_type": "code",
   "execution_count": 456,
   "metadata": {
    "ExecuteTime": {
     "end_time": "2023-11-29T02:14:57.426899800Z",
     "start_time": "2023-11-29T02:14:51.846223800Z"
    },
    "collapsed": false
   },
   "outputs": [
    {
     "name": "stdout",
     "output_type": "stream",
     "text": [
      "Vanilla (Non-Beam Search)\n",
      "Perplexity: 303.8087389992528\n",
      "Goodness: 370.8586292883446\n",
      "Length Probability: 0.022617551749222933\n",
      "\n",
      "<s> seriously at the same moment the principal business unembarrassed and produce was the worse for a mere heart </s>\n"
     ]
    }
   ],
   "source": [
    "vanilla_sentence = sample(model, ['<s>'])\n",
    "print('Vanilla (Non-Beam Search)')\n",
    "print(\"Perplexity:\", PP(4, vanilla_sentence))\n",
    "print(\"Goodness:\", goodness_function(4, vanilla_sentence))\n",
    "print(\"Length Probability:\", get_probability_of_length(len(vanilla_sentence)))\n",
    "print()\n",
    "print(' '.join(vanilla_sentence))"
   ]
  },
  {
   "cell_type": "code",
   "execution_count": null,
   "metadata": {
    "ExecuteTime": {
     "start_time": "2023-11-29T02:14:57.426899800Z"
    },
    "collapsed": false,
    "is_executing": true
   },
   "outputs": [],
   "source": [
    "beamed_sentence = beam_search_generator(model, ['<s>'], 2, 5)\n",
    "print('Beam Search')\n",
    "print(\"Perplexity:\", PP(4, beamed_sentence))\n",
    "print(\"Goodness:\", goodness_function(4, beamed_sentence))\n",
    "print(\"Length Probability:\", get_probability_of_length(len(beamed_sentence)))\n",
    "print()\n",
    "print(' '.join(beamed_sentence))"
   ]
  },
  {
   "cell_type": "markdown",
   "metadata": {},
   "source": [
    "### Analysis\n",
    "\n",
    "Describe what experiments you did with various alternatives as described above, and cut and paste examples illustrating your results.\n",
    "\n",
    "From problem 1, I saw the importance of sequence lengths. However, due to a large vocabulary, large sequence lengths weren't feasible if I used one-hot encodings. So for this reason, I tried something unorthodox: instead of trying to predict the index of the next word, I would try to predict the words location in the embedding vector space and use MSELoss as the loss function. However, unfortunately, this didn't work too well, so I gave up on this and simply reduced the sequence lengths.\n",
    "\n",
    "For this problem, I played around with DOZENS of hyperparameters. I found it very challenging to manually evaluate models just by looking at their loss and a generated sentence. Manual evaluation is prone to human bias and error and this was the hardest part of this question. Still, here are a few things I tried and what I learned.\n",
    "\n",
    "In all of these networks, my model NEVER seemed to overfit no matter how big my network got. Also note, all the experiments below was before I added beam search. But because I did also save these models, after I implemented beam search, I did try seeing how the models did with beam search too, and it was only marginally better. And on that note, the first thing I did notice:\n",
    "\n",
    "0. Beam search does indeed generate better sentences! Though perhaps the added time cost isn't worth it.\n",
    "\n",
    "1. I found low losses doesn't necessarily mean a good sentence. Notice the run on sentence that doesn't particularly make good sense as a whole.\n",
    "hyper params: https://share.aseef.dev/g3Hayy1\n",
    "losses: https://share.aseef.dev/0qb4Whr\n",
    "sample: https://share.aseef.dev/2hXb1xL\n",
    "\n",
    "2. With bad word embeddings, model struggled to generalize. I know this because I tried to take a weighted average of Word2Vec and Glove embeddings, but it didn't work too well. ChatGPT suggested (and it makes sense) that maybe both embeddings captured different aspects of the data so it doesn't make sense to combine them like that. At the same time however, using the 300d glove embeddings instead of the 200d wasn't significantly better either.\n",
    "\n",
    "3. With zero drop-out there were wierd spikes as the model losses approached zero. See below.\n",
    "hyper params: https://share.aseef.dev/iydr0X1\n",
    "losses: https://share.aseef.dev/3l9G7Sy\n",
    "sample: https://share.aseef.dev/r6EFLAF\n",
    "\n",
    "4. For this problem, I tried a range of sequences between 6 and 18 and I didn't notice significant differences between the sentence quality. But again, its hard to just eye-ball sentence quality so I am not sure. I suspect this was because both sequence lengths were too short to matter much in both cases (I didn't have enough memory to run with longer sequences).\n",
    "\n",
    "5. I also didn't have much luck with bi-directional LSTMs. In fact, the model results were more poor.\n",
    "hyper params: https://share.aseef.dev/lGWqFlT\n",
    "losses: https://share.aseef.dev/N6XWs9u\n",
    "samples 1: https://share.aseef.dev/4zGKK1Q\n",
    "\n",
    "6. I also tried to train a model WITH punctuations. Unfortunately it didn't do to well (with punctuations). It didn't learn to close parenthesis either.\n",
    "hyper params: https://share.aseef.dev/uGCuo4V\n",
    "losses: https://share.aseef.dev/E9M5SJk\n",
    "samples 1: https://share.aseef.dev/T278p0o\n",
    "samples 2: https://share.aseef.dev/CAhfrWJ\n",
    "\n",
    "7. Finally, I saw larger networks did generately marginally better sentences (though deep networks still didn't do too well). Notice how my final model also generates more realistic sentence lengths.\n",
    "hyper: https://share.aseef.dev/Gf1RjSL\n",
    "losses: https://share.aseef.dev/GM0vhn2\n",
    "samples: https://share.aseef.dev/H5fhtv5\n",
    "Still, for the amount of work I put it in, I was a bit disappointed and was expecting better results :(. Still, my final models do \"kind of\" make sense."
   ]
  },
  {
   "cell_type": "markdown",
   "metadata": {},
   "source": [
    "## Problem Three:  Part-of-Speech Tagging (40 pts)\n",
    "\n",
    "In this problem, we will experiment with three different approaches to the POS tagging problem, using\n",
    "the Brown Corpus as our data set. \n",
    "\n",
    "Before starting this problem, please review Lecture 13 and download the file <a href=\"Viterbi.ipynb\">Viterbi.ipynb</a> from the \n",
    "class web site. \n",
    "\n",
    "There are four parts to this problem:\n",
    "\n",
    "- Part A: You will establish a baseline accuracy for the task. \n",
    "- Part B: Using the implementation of the Viterbi algorithm for Hidden Markov Models you downloaded, you will determine how much better than the baseline you can do with this very standard method.\n",
    "- Part C: You will repeat the exercise of Part B, but using an LSTM implementation, exploring several options for the implementation of the LSTM layer.\n",
    "- Part D: You will evaluate your results, comparing the various methods in the context of the baseline method from Part A.\n",
    "- Optional: You may wish to try the same task with a transformer such as Bert. \n"
   ]
  },
  {
   "cell_type": "markdown",
   "metadata": {},
   "source": [
    "Recall that the Brown Corpus has a list of all sentences tagged with parts of speech. The tags are\n",
    "a bit odd, and not generally used any more, so we will use a much simpler set of tags the `universal_tagset`. \n",
    "\n",
    "If you run the following cells, you will see that there are 57,340 sentences, tagged with 12 different tags. \n",
    " "
   ]
  },
  {
   "cell_type": "code",
   "execution_count": 5,
   "metadata": {
    "ExecuteTime": {
     "end_time": "2023-11-28T22:56:07.421433700Z",
     "start_time": "2023-11-28T22:56:04.860475900Z"
    },
    "scrolled": false
   },
   "outputs": [
    {
     "name": "stderr",
     "output_type": "stream",
     "text": [
      "[nltk_data] Downloading package brown to\n",
      "[nltk_data]     /usr4/cs505ws/aseef/nltk_data...\n",
      "[nltk_data]   Package brown is already up-to-date!\n",
      "[nltk_data] Downloading package universal_tagset to\n",
      "[nltk_data]     /usr4/cs505ws/aseef/nltk_data...\n",
      "[nltk_data]   Package universal_tagset is already up-to-date!\n"
     ]
    },
    {
     "name": "stdout",
     "output_type": "stream",
     "text": [
      "There are 57340 sentences tagged with universal POS tags in the Brown Corpus.\n",
      "\n",
      "Here is the first sentence with universal tags: [('The', 'DET'), ('Fulton', 'NOUN'), ('County', 'NOUN'), ('Grand', 'ADJ'), ('Jury', 'NOUN'), ('said', 'VERB'), ('Friday', 'NOUN'), ('an', 'DET'), ('investigation', 'NOUN'), ('of', 'ADP'), (\"Atlanta's\", 'NOUN'), ('recent', 'ADJ'), ('primary', 'NOUN'), ('election', 'NOUN'), ('produced', 'VERB'), ('``', '.'), ('no', 'DET'), ('evidence', 'NOUN'), (\"''\", '.'), ('that', 'ADP'), ('any', 'DET'), ('irregularities', 'NOUN'), ('took', 'VERB'), ('place', 'NOUN'), ('.', '.')]\n"
     ]
    }
   ],
   "source": [
    "import numpy as np\n",
    "import nltk\n",
    "\n",
    "# The first time you will need to download the corpus:\n",
    "\n",
    "from nltk.corpus import brown\n",
    " \n",
    "nltk.download('brown')\n",
    "nltk.download('universal_tagset')\n",
    "\n",
    "tagged_sentences = brown.tagged_sents(tagset='universal')\n",
    "\n",
    "print(f'There are {len(tagged_sentences)} sentences tagged with universal POS tags in the Brown Corpus.')\n",
    "print(\"\\nHere is the first sentence with universal tags:\",tagged_sentences[0])"
   ]
  },
  {
   "cell_type": "code",
   "execution_count": 6,
   "metadata": {
    "ExecuteTime": {
     "end_time": "2023-11-28T22:56:14.107339200Z",
     "start_time": "2023-11-28T22:56:07.382911900Z"
    },
    "scrolled": false
   },
   "outputs": [
    {
     "name": "stdout",
     "output_type": "stream",
     "text": [
      "There are 12 universal tags in the Brown Corpus.\n",
      "['.', 'ADJ', 'ADP', 'ADV', 'CONJ', 'DET', 'NOUN', 'NUM', 'PRON', 'PRT', 'VERB', 'X']\n",
      "\n"
     ]
    }
   ],
   "source": [
    "# Uncomment to see the complete list of tags.\n",
    "\n",
    "all_tagged_words = np.concatenate(tagged_sentences)\n",
    "all_tags = sorted(set([pos for (w,pos) in all_tagged_words]))\n",
    "print(f'There are {len(all_tags)} universal tags in the Brown Corpus.')\n",
    "print(all_tags)\n",
    "print()\n"
   ]
  },
  {
   "cell_type": "markdown",
   "metadata": {
    "id": "VnB5z-ZoZEa5"
   },
   "source": [
    "### Part A\n",
    "\n",
    "In this part, you will establish a baseline for the task, using the naive method suggested on slide 35 of Lecture 13:\n",
    "\n",
    "- Tag every word with its most frequent POS tag (for example, if 'recent' is most frequently tagged as 'ADJ', then assume that every time 'recent' appears in a sentence, it should be tagged with 'ADJ'); \n",
    "- If a word has two or more most frequent tags, choose the one that appears first in the list of sorted tags above. \n",
    "\n",
    "Note that there will not be any \"unknown words.\" \n",
    " \n",
    "Use this method to determine your baseline accuracy (it may not be 92% as reported on slide 35!):\n",
    "\n",
    "- Build a dictionary mapping every word to its most frequent tag;\n",
    "- Go through the entire tagged corpus, and report the accuracy (percentage of correct tags) of this baseline method. \n",
    "\n",
    "Do not tokenize or lower-case the words. Use the words and tags exactly as they are in the tagged sentences."
   ]
  },
  {
   "cell_type": "code",
   "execution_count": 7,
   "metadata": {
    "ExecuteTime": {
     "end_time": "2023-11-28T22:56:17.000500400Z",
     "start_time": "2023-11-28T22:56:14.102343100Z"
    },
    "collapsed": false
   },
   "outputs": [],
   "source": [
    "most_common_pos_dict_counter: Dict[str, Counter] = defaultdict(lambda: Counter())\n",
    "for tagged_sent in tagged_sentences:\n",
    "    for tagged_word in tagged_sent:\n",
    "        word = tagged_word[0]\n",
    "        pos = tagged_word[1]\n",
    "        most_common_pos_dict_counter[word][pos] += 1"
   ]
  },
  {
   "cell_type": "code",
   "execution_count": 8,
   "metadata": {
    "ExecuteTime": {
     "end_time": "2023-11-28T22:56:17.000500400Z",
     "start_time": "2023-11-28T22:56:16.973890800Z"
    },
    "collapsed": false
   },
   "outputs": [
    {
     "data": {
      "text/plain": [
       "Counter({'VERB': 1, 'NOUN': 1})"
      ]
     },
     "execution_count": 8,
     "metadata": {},
     "output_type": "execute_result"
    }
   ],
   "source": [
    "most_common_pos_dict_counter['dwarfs']"
   ]
  },
  {
   "cell_type": "code",
   "execution_count": 9,
   "metadata": {
    "ExecuteTime": {
     "end_time": "2023-11-28T22:56:17.114382300Z",
     "start_time": "2023-11-28T22:56:16.989897400Z"
    },
    "collapsed": false
   },
   "outputs": [],
   "source": [
    "most_common_pos_dict: Dict[str, str] = {}\n",
    "for word in most_common_pos_dict_counter:\n",
    "    counter = most_common_pos_dict_counter[word]\n",
    "\n",
    "    most_common_tied_list: List[Tuple[str, int]] = []\n",
    "    for common_elem in counter.most_common():\n",
    "        if len(most_common_tied_list) == 0:\n",
    "            most_common_tied_list += [common_elem]\n",
    "        elif most_common_tied_list[-1][1] == common_elem[-1]:\n",
    "            most_common_tied_list += [common_elem]\n",
    "\n",
    "    most_common_tied_list = sorted(most_common_tied_list, key=lambda x: x[0], reverse=False)\n",
    "    most_common_pos_dict[word] = most_common_tied_list[0][0]"
   ]
  },
  {
   "cell_type": "code",
   "execution_count": 10,
   "metadata": {
    "ExecuteTime": {
     "end_time": "2023-11-28T22:56:17.147384600Z",
     "start_time": "2023-11-28T22:56:17.103529300Z"
    },
    "collapsed": false
   },
   "outputs": [
    {
     "data": {
      "text/plain": [
       "'NOUN'"
      ]
     },
     "execution_count": 10,
     "metadata": {},
     "output_type": "execute_result"
    }
   ],
   "source": [
    "most_common_pos_dict['dwarfs']"
   ]
  },
  {
   "cell_type": "code",
   "execution_count": 314,
   "metadata": {
    "ExecuteTime": {
     "end_time": "2023-11-29T01:36:38.600268500Z",
     "start_time": "2023-11-29T01:36:37.312131500Z"
    },
    "collapsed": false
   },
   "outputs": [
    {
     "name": "stdout",
     "output_type": "stream",
     "text": [
      "Baseline Accuracy: 95.71 %\n"
     ]
    }
   ],
   "source": [
    "total = 0\n",
    "accurate_predictions = 0\n",
    "for tagged_word in all_tagged_words:\n",
    "    word = tagged_word[0]\n",
    "    pos = tagged_word[1]\n",
    "    total += 1\n",
    "    if most_common_pos_dict[word] == pos:\n",
    "        accurate_predictions += 1\n",
    "\n",
    "baseline_accuracy = round(accurate_predictions / total, 4) * 100\n",
    "print('Baseline Accuracy:', baseline_accuracy, '%')"
   ]
  },
  {
   "cell_type": "markdown",
   "metadata": {},
   "source": [
    "### Part B:  \n",
    "\n",
    "Now, review the `Viterbi.ipynb` notebook and read through Section 8.4 in Jurafsky & Martin to understand the basic approach that is used in the \"Janet will back the bill\" example. In detail:\n",
    "\n",
    "- Cut and paste the code from the Viterby notebook below and run your experiments in this notebook. \n",
    "- You need to calculate from the Brown Corpus tagged sentences the probabilities for the various matrices used as input to the method:\n",
    "   - `start_p`: This is the probability that a sentence starts with a given POS (in Figure 8.12 in J & M, this is given as the first line, in the row for `<s>`; simply collect the statistics for the first word in each sentence; it will be of size 1 x 12. \n",
    "   - `trans_p`: This is the matrix of probabilities that one POS follows another in a sentence; build a 12 x 12 matrix of frequencies for whether the column POS follows the row POS in a sentence and then normalize each row so that it is a probability distribution (each row should add to 1.0)\n",
    "   - `emit_p`: This is a matrix of size 12 x N, where N is the number of unique words in the corpus, which for each POS (the row) gives the probability that this POS in the output sequence corresponds to a specific word (the column) in the input sequence; again, you should collect frequency statistics about the relationship between POS and words, and normalize so that every row sums to 1.0. \n",
    "   \n",
    "Then run the algorithm on all the sentences in the tagged corpus, and determine the accuracy of the Viterbi algorithm. Again, the accuracy is calculated on each word, not on sentences as a whole. \n",
    "\n",
    "Report your results as a raw accuracy score, and in the two ways that were suggested on slide 12 of Lecture 11: percentage above the baseline established in Part A, and Cohen's Kappa."
   ]
  },
  {
   "cell_type": "code",
   "execution_count": 12,
   "metadata": {
    "ExecuteTime": {
     "end_time": "2023-11-28T22:56:19.028449500Z",
     "start_time": "2023-11-28T22:56:18.340510Z"
    },
    "collapsed": false
   },
   "outputs": [
    {
     "data": {
      "text/plain": [
       "defaultdict(<function __main__.<lambda>()>,\n",
       "            {'DET': -2.1370827403585304,\n",
       "             'NOUN': -1.4384042099508059,\n",
       "             'ADJ': -2.6297125006183846,\n",
       "             'VERB': -1.8490832440721217,\n",
       "             'ADP': -2.0820836969516208,\n",
       "             '.': -2.0629335860260514,\n",
       "             'ADV': -3.0275918762965164,\n",
       "             'CONJ': -3.41565037299529,\n",
       "             'PRT': -3.661721268035963,\n",
       "             'PRON': -3.1585888441837975,\n",
       "             'NUM': -4.357587620420901,\n",
       "             'X': -6.730780441934298})"
      ]
     },
     "execution_count": 12,
     "metadata": {},
     "output_type": "execute_result"
    }
   ],
   "source": [
    "# Calculate statistics from part of tagged sentences\n",
    "\n",
    "# First, create dictionary of starting frequencies for each tag\n",
    "\n",
    "start_p = defaultdict(int)\n",
    "\n",
    "# etc. to create start_p\n",
    "for tagged_word in all_tagged_words:\n",
    "    start_p[tagged_word[1]] += 1\n",
    "\n",
    "# normalize\n",
    "total_sum = sum(start_p.values())\n",
    "for pos in start_p:\n",
    "    start_p[pos] /= total_sum\n",
    "\n",
    "# double check values sum to 1\n",
    "assert np.isclose(sum(start_p.values()), 1)\n",
    "\n",
    "# now convert it into log probabilities\n",
    "\n",
    "start_p_log = defaultdict(lambda: float('-inf'))\n",
    "\n",
    "for tag in start_p:\n",
    "    start_p_log[tag] = np.log( start_p[tag] )\n",
    "\n",
    "start_p_log"
   ]
  },
  {
   "cell_type": "code",
   "execution_count": 13,
   "metadata": {
    "ExecuteTime": {
     "end_time": "2023-11-28T22:56:19.032436500Z",
     "start_time": "2023-11-28T22:56:19.031434400Z"
    },
    "collapsed": false
   },
   "outputs": [
    {
     "data": {
      "text/plain": [
       "array([['The', 'DET'],\n",
       "       ['Fulton', 'NOUN'],\n",
       "       ['County', 'NOUN'],\n",
       "       ...,\n",
       "       ['was', 'VERB'],\n",
       "       ['stupefying', 'VERB'],\n",
       "       ['.', '.']], dtype='<U33')"
      ]
     },
     "execution_count": 13,
     "metadata": {},
     "output_type": "execute_result"
    }
   ],
   "source": [
    "all_tagged_words"
   ]
  },
  {
   "cell_type": "code",
   "execution_count": 14,
   "metadata": {
    "ExecuteTime": {
     "end_time": "2023-11-28T22:56:20.526222100Z",
     "start_time": "2023-11-28T22:56:19.073908600Z"
    },
    "collapsed": false
   },
   "outputs": [],
   "source": [
    "# First, create nested dictionary of transition frequencies for each tag\n",
    "#  where t2 follows t1\n",
    "\n",
    "trans_p = defaultdict(lambda: defaultdict(int))\n",
    "\n",
    "# etc to create trans_p\n",
    "for i in range(len(all_tagged_words) - 1):\n",
    "    current_tagged_word = all_tagged_words[i]\n",
    "    next_tagged_word = all_tagged_words[i+1]\n",
    "\n",
    "    trans_p[current_tagged_word[1]][next_tagged_word[1]] += 1\n",
    "\n",
    "# normalize\n",
    "for current_pos in trans_p:\n",
    "    row_total = sum(trans_p[current_pos].values())\n",
    "    for next_pos in trans_p:\n",
    "        trans_p[current_pos][next_pos] /= row_total\n",
    "    # double check I didn't mess up\n",
    "    assert np.isclose(sum(trans_p[current_pos].values()), 1)\n",
    "\n",
    "# now convert it into log probabilities\n",
    "\n",
    "trans_p_log = defaultdict(lambda: defaultdict(lambda: float('-inf')))\n",
    "\n",
    "for t1 in trans_p:\n",
    "    for t2 in trans_p[t1]:\n",
    "        trans_p_log[t1][t2] = np.log( trans_p[t1][t2] )\n"
   ]
  },
  {
   "cell_type": "code",
   "execution_count": 15,
   "metadata": {
    "ExecuteTime": {
     "end_time": "2023-11-28T22:56:21.934877Z",
     "start_time": "2023-11-28T22:56:20.526222100Z"
    },
    "collapsed": false
   },
   "outputs": [],
   "source": [
    "# First, create nested dictionary of emission frequencies for each tag:\n",
    "# given tag, how many times does word occur with that tag?\n",
    "\n",
    "emit_p = defaultdict(lambda: defaultdict(int))\n",
    "\n",
    "# etc to create emit_p\n",
    "for tagged_word in all_tagged_words:\n",
    "    word = tagged_word[0]\n",
    "    pos = tagged_word[1]\n",
    "    emit_p[pos][word] += 1\n",
    "\n",
    "# normalize\n",
    "for pos in emit_p:\n",
    "    row_total = sum(emit_p[pos].values())\n",
    "    for word in emit_p[pos]:\n",
    "        emit_p[pos][word] /= row_total\n",
    "    assert np.isclose(sum(emit_p[pos].values()), 1)\n",
    "\n",
    "# now convert it into log probabilities\n",
    "\n",
    "emit_p_log = defaultdict(lambda: defaultdict(lambda: float('-inf')))\n",
    "\n",
    "for t in emit_p:\n",
    "    for w in emit_p[t]:\n",
    "        emit_p_log[t][w] = np.log( emit_p[t][w] )\n",
    "\n"
   ]
  },
  {
   "cell_type": "code",
   "execution_count": 16,
   "metadata": {
    "ExecuteTime": {
     "end_time": "2023-11-28T22:56:21.934877Z",
     "start_time": "2023-11-28T22:56:21.933875700Z"
    }
   },
   "outputs": [],
   "source": [
    "# Viterbi code should be pasted here\n",
    "def viterbi(obs_sequence, obs, states, start_p, trans_p, emit_p, logspace=True):\n",
    "\n",
    "    V = [{}]\n",
    "    for st in states:\n",
    "        if logspace:\n",
    "            V[0] [st] = {\"prob\": start_p[st] + emit_p[st][obs_sequence[0]], \"prev\": None}\n",
    "        else:\n",
    "            V[0] [st] = {\"prob\": start_p[st] * emit_p[st][obs_sequence[0]], \"prev\": None}\n",
    "\n",
    "    # Run Viterbi when t > 0\n",
    "\n",
    "    for t in range(1, len(obs_sequence)):\n",
    "        V.append({})\n",
    "        for st in states:\n",
    "\n",
    "            if logspace:\n",
    "                max_tr_prob = V[t - 1] [states[0]] [\"prob\"] + trans_p[states[0]] [st]\n",
    "            else:\n",
    "                max_tr_prob = V[t - 1] [states[0]] [\"prob\"] * trans_p[states[0]] [st]\n",
    "\n",
    "            prev_st_selected = states[0]\n",
    "\n",
    "            for prev_st in states[1:]:\n",
    "\n",
    "                if logspace:\n",
    "                    tr_prob = V[t - 1] [prev_st] [\"prob\"] + trans_p[prev_st] [st]\n",
    "                else:\n",
    "                    tr_prob = V[t - 1] [prev_st] [\"prob\"] * trans_p[prev_st] [st]\n",
    "\n",
    "                if tr_prob > max_tr_prob:\n",
    "                    max_tr_prob = tr_prob\n",
    "                    prev_st_selected = prev_st\n",
    "\n",
    "            if logspace:\n",
    "                max_prob = max_tr_prob + emit_p[st] [obs_sequence[t]]\n",
    "            else:\n",
    "                max_prob = max_tr_prob * emit_p[st] [obs_sequence[t]]\n",
    "\n",
    "            V[t] [st] = {\"prob\": max_prob, \"prev\": prev_st_selected}\n",
    "\n",
    "    opt = []\n",
    "    max_prob = float('-inf')\n",
    "    best_st = None\n",
    "\n",
    "    # Get most probable state and its backtrack\n",
    "    for st, data in V[-1].items():\n",
    "        if data[\"prob\"] > max_prob:\n",
    "            max_prob = data[\"prob\"]\n",
    "            best_st = st\n",
    "    opt.append(best_st)\n",
    "    previous = best_st\n",
    "\n",
    "    # Follow the backtrack till the first observation\n",
    "    for t in range(len(V) - 2, -1, -1):\n",
    "        opt.insert(0, V[t + 1] [previous] [\"prev\"])\n",
    "        previous = V[t + 1] [previous] [\"prev\"]\n",
    "\n",
    "    return (opt,max_prob)"
   ]
  },
  {
   "cell_type": "code",
   "execution_count": 17,
   "metadata": {
    "ExecuteTime": {
     "end_time": "2023-11-28T22:56:23.559227600Z",
     "start_time": "2023-11-28T22:56:22.013743800Z"
    },
    "collapsed": false
   },
   "outputs": [
    {
     "data": {
      "text/plain": [
       "56057"
      ]
     },
     "execution_count": 17,
     "metadata": {},
     "output_type": "execute_result"
    }
   ],
   "source": [
    "all_words = set(brown.words())\n",
    "len(all_words)"
   ]
  },
  {
   "cell_type": "code",
   "execution_count": 18,
   "metadata": {
    "ExecuteTime": {
     "end_time": "2023-11-28T22:56:23.568244700Z",
     "start_time": "2023-11-28T22:56:23.560227700Z"
    },
    "collapsed": false
   },
   "outputs": [
    {
     "name": "stdout",
     "output_type": "stream",
     "text": [
      "``                  \t.         \t.         \n",
      "Only                \tADV       \tADV       \n",
      "a                   \tDET       \tDET       \n",
      "relative            \tADJ       \tADJ       \n",
      "handful             \tNOUN      \tNOUN      \n",
      "of                  \tADP       \tADP       \n",
      "such                \tADJ       \tADJ       \n",
      "reports             \tNOUN      \tNOUN      \n",
      "was                 \tVERB      \tVERB      \n",
      "received            \tVERB      \tVERB      \n",
      "''                  \t.         \t.         \n",
      ",                   \t.         \t.         \n",
      "the                 \tDET       \tDET       \n",
      "jury                \tNOUN      \tNOUN      \n",
      "said                \tVERB      \tVERB      \n",
      ",                   \t.         \t.         \n",
      "``                  \t.         \t.         \n",
      "considering         \tADP       \tADP       \n",
      "the                 \tDET       \tDET       \n",
      "widespread          \tADJ       \tADJ       \n",
      "interest            \tNOUN      \tNOUN      \n",
      "in                  \tADP       \tADP       \n",
      "the                 \tDET       \tDET       \n",
      "election            \tNOUN      \tNOUN      \n",
      ",                   \t.         \t.         \n",
      "the                 \tDET       \tDET       \n",
      "number              \tNOUN      \tNOUN      \n",
      "of                  \tADP       \tADP       \n",
      "voters              \tNOUN      \tNOUN      \n",
      "and                 \tCONJ      \tCONJ      \n",
      "the                 \tDET       \tDET       \n",
      "size                \tNOUN      \tNOUN      \n",
      "of                  \tADP       \tADP       \n",
      "this                \tDET       \tDET       \n",
      "city                \tNOUN      \tNOUN      \n",
      "''                  \t.         \t.         \n",
      ".                   \t.         \t.         \n"
     ]
    }
   ],
   "source": [
    "# Try it with normal probabilities\n",
    "\n",
    "sent = tagged_sentences[3]\n",
    "(s,t) = list(zip(*sent))\n",
    "(t_hat,p) = viterbi(s, np.array(all_words), np.array(all_tags),start_p,trans_p,emit_p,logspace=False)\n",
    "\n",
    "for k in range(len(s)):\n",
    "    print(f'{s[k]:20}\\t{t[k]:10}\\t{t_hat[k]:10}')"
   ]
  },
  {
   "cell_type": "code",
   "execution_count": 19,
   "metadata": {
    "ExecuteTime": {
     "end_time": "2023-11-28T22:56:23.577608800Z",
     "start_time": "2023-11-28T22:56:23.572589900Z"
    },
    "collapsed": false
   },
   "outputs": [
    {
     "name": "stdout",
     "output_type": "stream",
     "text": [
      "``                  \t.         \t.         \n",
      "Only                \tADV       \tADV       \n",
      "a                   \tDET       \tDET       \n",
      "relative            \tADJ       \tADJ       \n",
      "handful             \tNOUN      \tNOUN      \n",
      "of                  \tADP       \tADP       \n",
      "such                \tADJ       \tADJ       \n",
      "reports             \tNOUN      \tNOUN      \n",
      "was                 \tVERB      \tVERB      \n",
      "received            \tVERB      \tVERB      \n",
      "''                  \t.         \t.         \n",
      ",                   \t.         \t.         \n",
      "the                 \tDET       \tDET       \n",
      "jury                \tNOUN      \tNOUN      \n",
      "said                \tVERB      \tVERB      \n",
      ",                   \t.         \t.         \n",
      "``                  \t.         \t.         \n",
      "considering         \tADP       \tADP       \n",
      "the                 \tDET       \tDET       \n",
      "widespread          \tADJ       \tADJ       \n",
      "interest            \tNOUN      \tNOUN      \n",
      "in                  \tADP       \tADP       \n",
      "the                 \tDET       \tDET       \n",
      "election            \tNOUN      \tNOUN      \n",
      ",                   \t.         \t.         \n",
      "the                 \tDET       \tDET       \n",
      "number              \tNOUN      \tNOUN      \n",
      "of                  \tADP       \tADP       \n",
      "voters              \tNOUN      \tNOUN      \n",
      "and                 \tCONJ      \tCONJ      \n",
      "the                 \tDET       \tDET       \n",
      "size                \tNOUN      \tNOUN      \n",
      "of                  \tADP       \tADP       \n",
      "this                \tDET       \tDET       \n",
      "city                \tNOUN      \tNOUN      \n",
      "''                  \t.         \t.         \n",
      ".                   \t.         \t.         \n"
     ]
    }
   ],
   "source": [
    "# try it with log probabilities\n",
    "\n",
    "sent = tagged_sentences[3]\n",
    "(s,t) = list(zip(*sent))\n",
    "(t_hat,p) = viterbi(s, np.array(all_words), np.array(all_tags),start_p_log,trans_p_log,emit_p_log)\n",
    "\n",
    "for k in range(len(s)):\n",
    "    print(f'{s[k]:20}\\t{t[k]:10}\\t{t_hat[k]:10}')"
   ]
  },
  {
   "cell_type": "code",
   "execution_count": 316,
   "metadata": {
    "ExecuteTime": {
     "end_time": "2023-11-29T01:39:00.529057800Z",
     "start_time": "2023-11-29T01:37:16.397789200Z"
    },
    "collapsed": false
   },
   "outputs": [
    {
     "name": "stderr",
     "output_type": "stream",
     "text": [
      "100%|████████████████████████████████████████████████████████████████████████████████████████████████████████████████████| 57340/57340 [01:44<00:00, 550.69it/s]"
     ]
    },
    {
     "name": "stdout",
     "output_type": "stream",
     "text": [
      "Logspace Viterbi Accuracy: 97.55 %\n"
     ]
    },
    {
     "name": "stderr",
     "output_type": "stream",
     "text": [
      "\n"
     ]
    }
   ],
   "source": [
    "total = 0\n",
    "#accurate_predictions = 0\n",
    "accurate_predictions_log_space = 0\n",
    "\n",
    "for tagged_sentence in tqdm(tagged_sentences):\n",
    "    (sentence,actual_tags) = list(zip(*tagged_sentence))\n",
    "    #(predicted_tags,p) = viterbi(sentence, np.array(all_words), np.array(all_tags), start_p, trans_p, emit_p, logspace=False)\n",
    "    (predicted_tags_log_space,p_log_space) = viterbi(sentence, np.array(all_words), np.array(all_tags), start_p_log, trans_p_log, emit_p_log, logspace=True)\n",
    "\n",
    "    # count the number of \"trues\" - e.i. when predicted value = actual value\n",
    "    #accurate_predictions += np.count_nonzero((np.equal(predicted_tags, actual_tags)))\n",
    "    accurate_predictions_log_space += np.count_nonzero((np.equal(predicted_tags_log_space, actual_tags)))\n",
    "    total += len(sentence)\n",
    "\n",
    "#print('Viterbi Accuracy:', round(accurate_predictions / total, 4) * 100, '%')\n",
    "accuracy = round(accurate_predictions_log_space / total, 4) * 100\n",
    "print('Logspace Viterbi Accuracy:', accuracy, '%')"
   ]
  },
  {
   "cell_type": "code",
   "execution_count": 317,
   "metadata": {
    "ExecuteTime": {
     "end_time": "2023-11-29T01:39:00.529057800Z",
     "start_time": "2023-11-29T01:39:00.528055900Z"
    },
    "collapsed": false
   },
   "outputs": [
    {
     "name": "stdout",
     "output_type": "stream",
     "text": [
      "Percent Above Baseline: 1.8400000000000034\n",
      "Cohen's Kappa: -0.019427726744799954\n"
     ]
    }
   ],
   "source": [
    "print('Percent Above Baseline:', (accuracy - baseline_accuracy))\n",
    "print('Cohen\\'s Kappa:', (accuracy - baseline_accuracy) / (1 - baseline_accuracy))"
   ]
  },
  {
   "cell_type": "markdown",
   "metadata": {},
   "source": [
    "### Part C:  \n",
    "\n",
    "Next, you will need to develop an LSTM model to solve this problem. You may find it useful to\n",
    "refer to the following, which presents an approach in Keras.\n",
    "\n",
    "https://www.kaggle.com/code/tanyadayanand/pos-tagging-using-rnn/notebook\n",
    "\n",
    "\n",
    "You must do the following for this part:\n",
    "\n",
    "- Develop your code in Pytorch (of course!);\n",
    "- Use pretrained GloVe embeddings of dimension 200 and update them with the brown sentences; if you run into problems with RAM, you may use a smaller embedding dimension; \n",
    "- Truncate all sentences to a maximum of length 100 tokens, and pad shorter sentences (as in the reference above);\n",
    "- Use an LSTM model and try several different choices for the parameters to the layer:\n",
    "  - `hidden_size`:  Try several different widths for the layer\n",
    "  - `bidirectional`: Try unidirectional (False) and bidirectional (True)\n",
    "  - `num_layers`: Try 1 layer and 2 layers\n",
    "  - `dropout`: In the case of 2 layers, try several different dropouts, including 0.\n",
    "- Use early stopping with `patience = 50`;  \n",
    "You do not have to try every possible combination of these parameter choices; a good strategy is to\n",
    "try them separately, and then try a couple of combinations of the best choices of each. \n",
    "\n",
    "It is your choice about the other hyperparameters.  \n",
    "\n",
    "Provide a brief discussion of what you discovered, your best loss and accuracy measures for\n",
    "validation, and three versions of your testing accuracy, as in Part B."
   ]
  },
  {
   "cell_type": "code",
   "execution_count": 327,
   "metadata": {
    "ExecuteTime": {
     "end_time": "2023-11-29T01:58:07.702777900Z",
     "start_time": "2023-11-29T01:58:07.672265100Z"
    },
    "collapsed": false
   },
   "outputs": [],
   "source": [
    "# HYPER PARAMETERS\n",
    "sequence_length = 100\n",
    "batch_size = 256\n",
    "hidden_dimensions = 300\n",
    "num_layers = 2\n",
    "dropout = 0.0\n",
    "learning_rate = 0.0002\n",
    "adam_weight_decay = 0.0008\n",
    "bidirectional = True\n",
    "\n",
    "update_embeddings = True\n",
    "glove_embedding_dim = 200"
   ]
  },
  {
   "cell_type": "code",
   "execution_count": 328,
   "metadata": {
    "ExecuteTime": {
     "end_time": "2023-11-29T01:58:08.101337100Z",
     "start_time": "2023-11-29T01:58:07.863977700Z"
    },
    "collapsed": false
   },
   "outputs": [],
   "source": [
    "# load the glove models\n",
    "# this actually takes a while so ill save the result\n",
    "if does_var_exists(F'glove_model_{glove_embedding_dim}d'):\n",
    "    glove_model = load_var(F'glove_model_{glove_embedding_dim}d')\n",
    "else:\n",
    "    glove_dataset_dir = F'./data/glove/glove.6B.{glove_embedding_dim}d.txt'\n",
    "    glove_output_vec_dir = F'./data/glove/glove.6B.{glove_embedding_dim}d.wv'\n",
    "    if not os.path.isfile(glove_output_vec_dir):\n",
    "        glove2word2vec(glove_dataset_dir, glove_output_vec_dir)\n",
    "    glove_model = KeyedVectors.load_word2vec_format(glove_output_vec_dir, binary=False)\n",
    "    dump_var(F'glove_model_{glove_embedding_dim}d', glove_model)"
   ]
  },
  {
   "cell_type": "code",
   "execution_count": 329,
   "metadata": {
    "ExecuteTime": {
     "end_time": "2023-11-29T01:58:08.385107800Z",
     "start_time": "2023-11-29T01:58:08.208931500Z"
    },
    "collapsed": false
   },
   "outputs": [
    {
     "name": "stderr",
     "output_type": "stream",
     "text": [
      "[nltk_data] Downloading package punkt to\n",
      "[nltk_data]     /usr4/cs505ws/aseef/nltk_data...\n",
      "[nltk_data]   Package punkt is already up-to-date!\n"
     ]
    }
   ],
   "source": [
    "from nltk.tokenize import word_tokenize\n",
    "nltk.download('punkt')\n",
    "def tokenize_word(word):\n",
    "    word = word.lower()\n",
    "    word = word_tokenize(word)[0]\n",
    "    return word"
   ]
  },
  {
   "cell_type": "code",
   "execution_count": 330,
   "metadata": {
    "ExecuteTime": {
     "end_time": "2023-11-29T01:58:08.665553200Z",
     "start_time": "2023-11-29T01:58:08.511593200Z"
    },
    "collapsed": false
   },
   "outputs": [],
   "source": [
    "if does_var_exists('normalized_brown_sents'):\n",
    "    normalized_brown_sents = load_var('normalized_brown_sents')\n",
    "else:\n",
    "    normalized_brown_sents = list(brown.sents())\n",
    "\n",
    "    for i in tqdm(range(len(normalized_brown_sents))):\n",
    "        for j in range(len(normalized_brown_sents[i])):\n",
    "            normalized_brown_sents[i][j] = tokenize_word(normalized_brown_sents[i][j])\n",
    "    normalized_brown_sents = normalized_brown_sents\n",
    "    dump_var('normalized_brown_sents', normalized_brown_sents)"
   ]
  },
  {
   "cell_type": "code",
   "execution_count": 331,
   "metadata": {
    "ExecuteTime": {
     "end_time": "2023-11-29T01:58:08.769841300Z",
     "start_time": "2023-11-29T01:58:08.765834100Z"
    },
    "collapsed": false
   },
   "outputs": [
    {
     "data": {
      "text/plain": [
       "[['the',\n",
       "  'fulton',\n",
       "  'county',\n",
       "  'grand',\n",
       "  'jury',\n",
       "  'said',\n",
       "  'friday',\n",
       "  'an',\n",
       "  'investigation',\n",
       "  'of',\n",
       "  'atlanta',\n",
       "  'recent',\n",
       "  'primary',\n",
       "  'election',\n",
       "  'produced',\n",
       "  '``',\n",
       "  'no',\n",
       "  'evidence',\n",
       "  \"''\",\n",
       "  'that',\n",
       "  'any',\n",
       "  'irregularities',\n",
       "  'took',\n",
       "  'place',\n",
       "  '.']]"
      ]
     },
     "execution_count": 331,
     "metadata": {},
     "output_type": "execute_result"
    }
   ],
   "source": [
    "normalized_brown_sents[:1]"
   ]
  },
  {
   "cell_type": "code",
   "execution_count": 332,
   "metadata": {
    "ExecuteTime": {
     "end_time": "2023-11-29T01:58:11.959737Z",
     "start_time": "2023-11-29T01:58:09.127849700Z"
    },
    "collapsed": false
   },
   "outputs": [],
   "source": [
    "# just a hack that I use in the next cell to trim the glove model to only include words and terms that also exist in the novel\n",
    "updated_brown_model = Word2Vec(sentences=normalized_brown_sents, vector_size=glove_embedding_dim, window=7, min_count=1, workers=16).wv"
   ]
  },
  {
   "cell_type": "code",
   "execution_count": 333,
   "metadata": {
    "ExecuteTime": {
     "end_time": "2023-11-29T01:58:12.098975Z",
     "start_time": "2023-11-29T01:58:11.963737800Z"
    },
    "collapsed": false
   },
   "outputs": [],
   "source": [
    "if does_var_exists(f'updated_brown_model_{glove_embedding_dim}'):\n",
    "    updated_brown_model = load_var(f'updated_brown_model_{glove_embedding_dim}')\n",
    "else:\n",
    "    def update_word(word: str):\n",
    "        if word in glove_model:\n",
    "            updated_brown_model[word] = glove_model[word]\n",
    "        else:\n",
    "            # In theory, these weights shouldn't matter much because they will be updated anyways\n",
    "            updated_brown_model[word] = updated_brown_model[word]\n",
    "    # Update pre-trained GloVe embeddings removing words that dont exist in the brown corpus\n",
    "    with concurrent.futures.ThreadPoolExecutor(max_workers=16) as executor:\n",
    "        executor.map(update_word, updated_brown_model.key_to_index.keys())\n",
    "    dump_var(f'updated_brown_model_{glove_embedding_dim}', updated_brown_model)\n",
    "\n",
    "# the above code is logically equal to the below code except above code runs in parallel\n",
    "\n",
    "# for word in tqdm(updated_brown_model.key_to_index.keys()):\n",
    "#     # we update over the persuasion model because the glove model has loads of words not in the novel\n",
    "#     if word in glove_model:\n",
    "#         updated_brown_model[word] = glove_model[word]\n",
    "#     else:\n",
    "#         # in theory, these weights shouldnt matter much because they will be updated anyways\n",
    "#         updated_brown_model[word] = updated_brown_model[word]"
   ]
  },
  {
   "cell_type": "code",
   "execution_count": 334,
   "metadata": {
    "ExecuteTime": {
     "end_time": "2023-11-29T01:58:12.103975100Z",
     "start_time": "2023-11-29T01:58:12.098975Z"
    },
    "collapsed": false
   },
   "outputs": [],
   "source": [
    "#updated_brown_model['<PAD>'] = np.zeros(glove_embedding_dim)"
   ]
  },
  {
   "cell_type": "code",
   "execution_count": 335,
   "metadata": {
    "ExecuteTime": {
     "end_time": "2023-11-29T01:58:12.104974Z",
     "start_time": "2023-11-29T01:58:12.098975Z"
    },
    "collapsed": false
   },
   "outputs": [],
   "source": [
    "from itertools import chain\n",
    "\n",
    "word_tokens = list(chain(*normalized_brown_sents))"
   ]
  },
  {
   "cell_type": "code",
   "execution_count": 336,
   "metadata": {
    "ExecuteTime": {
     "end_time": "2023-11-29T01:58:12.105977200Z",
     "start_time": "2023-11-29T01:58:12.099975300Z"
    },
    "collapsed": false
   },
   "outputs": [
    {
     "data": {
      "text/plain": [
       "['the',\n",
       " 'fulton',\n",
       " 'county',\n",
       " 'grand',\n",
       " 'jury',\n",
       " 'said',\n",
       " 'friday',\n",
       " 'an',\n",
       " 'investigation',\n",
       " 'of']"
      ]
     },
     "execution_count": 336,
     "metadata": {},
     "output_type": "execute_result"
    }
   ],
   "source": [
    "word_tokens[:10]"
   ]
  },
  {
   "cell_type": "code",
   "execution_count": 337,
   "metadata": {
    "ExecuteTime": {
     "end_time": "2023-11-29T01:58:14.745427900Z",
     "start_time": "2023-11-29T01:58:12.420214500Z"
    },
    "collapsed": false
   },
   "outputs": [],
   "source": [
    "pos_tokens = [row[1] for row in list(chain(*tagged_sentences))]"
   ]
  },
  {
   "cell_type": "code",
   "execution_count": 338,
   "metadata": {
    "ExecuteTime": {
     "end_time": "2023-11-29T01:58:14.751427900Z",
     "start_time": "2023-11-29T01:58:14.746427700Z"
    },
    "collapsed": false
   },
   "outputs": [
    {
     "data": {
      "text/plain": [
       "['DET', 'NOUN', 'NOUN', 'ADJ', 'NOUN', 'VERB', 'NOUN', 'DET', 'NOUN', 'ADP']"
      ]
     },
     "execution_count": 338,
     "metadata": {},
     "output_type": "execute_result"
    }
   ],
   "source": [
    "pos_tokens[:10]"
   ]
  },
  {
   "cell_type": "code",
   "execution_count": 339,
   "metadata": {
    "ExecuteTime": {
     "end_time": "2023-11-29T01:58:15.229369600Z",
     "start_time": "2023-11-29T01:58:15.191729900Z"
    },
    "collapsed": false
   },
   "outputs": [],
   "source": [
    "input_sequences = list()\n",
    "target_sequences = list()\n",
    "# iterate over first 100 words, then next 100 and so on\n",
    "for i in range(sequence_length, len(word_tokens), sequence_length):\n",
    "     # store\n",
    "     input_sequences.append(word_tokens[i-sequence_length:i])\n",
    "     target_sequences.append(pos_tokens[i-sequence_length:i])"
   ]
  },
  {
   "cell_type": "code",
   "execution_count": 340,
   "metadata": {
    "ExecuteTime": {
     "end_time": "2023-11-29T01:58:15.242955Z",
     "start_time": "2023-11-29T01:58:15.198705100Z"
    },
    "collapsed": false
   },
   "outputs": [
    {
     "data": {
      "text/plain": [
       "[['the',\n",
       "  'fulton',\n",
       "  'county',\n",
       "  'grand',\n",
       "  'jury',\n",
       "  'said',\n",
       "  'friday',\n",
       "  'an',\n",
       "  'investigation',\n",
       "  'of',\n",
       "  'atlanta',\n",
       "  'recent',\n",
       "  'primary',\n",
       "  'election',\n",
       "  'produced',\n",
       "  '``',\n",
       "  'no',\n",
       "  'evidence',\n",
       "  \"''\",\n",
       "  'that',\n",
       "  'any',\n",
       "  'irregularities',\n",
       "  'took',\n",
       "  'place',\n",
       "  '.',\n",
       "  'the',\n",
       "  'jury',\n",
       "  'further',\n",
       "  'said',\n",
       "  'in',\n",
       "  'term-end',\n",
       "  'presentments',\n",
       "  'that',\n",
       "  'the',\n",
       "  'city',\n",
       "  'executive',\n",
       "  'committee',\n",
       "  ',',\n",
       "  'which',\n",
       "  'had',\n",
       "  'over-all',\n",
       "  'charge',\n",
       "  'of',\n",
       "  'the',\n",
       "  'election',\n",
       "  ',',\n",
       "  '``',\n",
       "  'deserves',\n",
       "  'the',\n",
       "  'praise',\n",
       "  'and',\n",
       "  'thanks',\n",
       "  'of',\n",
       "  'the',\n",
       "  'city',\n",
       "  'of',\n",
       "  'atlanta',\n",
       "  \"''\",\n",
       "  'for',\n",
       "  'the',\n",
       "  'manner',\n",
       "  'in',\n",
       "  'which',\n",
       "  'the',\n",
       "  'election',\n",
       "  'was',\n",
       "  'conducted',\n",
       "  '.',\n",
       "  'the',\n",
       "  'september-october',\n",
       "  'term',\n",
       "  'jury',\n",
       "  'had',\n",
       "  'been',\n",
       "  'charged',\n",
       "  'by',\n",
       "  'fulton',\n",
       "  'superior',\n",
       "  'court',\n",
       "  'judge',\n",
       "  'durwood',\n",
       "  'pye',\n",
       "  'to',\n",
       "  'investigate',\n",
       "  'reports',\n",
       "  'of',\n",
       "  'possible',\n",
       "  '``',\n",
       "  'irregularities',\n",
       "  \"''\",\n",
       "  'in',\n",
       "  'the',\n",
       "  'hard-fought',\n",
       "  'primary',\n",
       "  'which',\n",
       "  'was',\n",
       "  'won',\n",
       "  'by',\n",
       "  'mayor-nominate',\n",
       "  'ivan']]"
      ]
     },
     "execution_count": 340,
     "metadata": {},
     "output_type": "execute_result"
    }
   ],
   "source": [
    "input_sequences[:1]"
   ]
  },
  {
   "cell_type": "code",
   "execution_count": 341,
   "metadata": {
    "ExecuteTime": {
     "end_time": "2023-11-29T01:58:15.424751400Z",
     "start_time": "2023-11-29T01:58:15.424751400Z"
    },
    "collapsed": false
   },
   "outputs": [
    {
     "data": {
      "text/plain": [
       "[['DET',\n",
       "  'NOUN',\n",
       "  'NOUN',\n",
       "  'ADJ',\n",
       "  'NOUN',\n",
       "  'VERB',\n",
       "  'NOUN',\n",
       "  'DET',\n",
       "  'NOUN',\n",
       "  'ADP',\n",
       "  'NOUN',\n",
       "  'ADJ',\n",
       "  'NOUN',\n",
       "  'NOUN',\n",
       "  'VERB',\n",
       "  '.',\n",
       "  'DET',\n",
       "  'NOUN',\n",
       "  '.',\n",
       "  'ADP',\n",
       "  'DET',\n",
       "  'NOUN',\n",
       "  'VERB',\n",
       "  'NOUN',\n",
       "  '.',\n",
       "  'DET',\n",
       "  'NOUN',\n",
       "  'ADV',\n",
       "  'VERB',\n",
       "  'ADP',\n",
       "  'NOUN',\n",
       "  'NOUN',\n",
       "  'ADP',\n",
       "  'DET',\n",
       "  'NOUN',\n",
       "  'ADJ',\n",
       "  'NOUN',\n",
       "  '.',\n",
       "  'DET',\n",
       "  'VERB',\n",
       "  'ADJ',\n",
       "  'NOUN',\n",
       "  'ADP',\n",
       "  'DET',\n",
       "  'NOUN',\n",
       "  '.',\n",
       "  '.',\n",
       "  'VERB',\n",
       "  'DET',\n",
       "  'NOUN',\n",
       "  'CONJ',\n",
       "  'NOUN',\n",
       "  'ADP',\n",
       "  'DET',\n",
       "  'NOUN',\n",
       "  'ADP',\n",
       "  'NOUN',\n",
       "  '.',\n",
       "  'ADP',\n",
       "  'DET',\n",
       "  'NOUN',\n",
       "  'ADP',\n",
       "  'DET',\n",
       "  'DET',\n",
       "  'NOUN',\n",
       "  'VERB',\n",
       "  'VERB',\n",
       "  '.',\n",
       "  'DET',\n",
       "  'NOUN',\n",
       "  'NOUN',\n",
       "  'NOUN',\n",
       "  'VERB',\n",
       "  'VERB',\n",
       "  'VERB',\n",
       "  'ADP',\n",
       "  'NOUN',\n",
       "  'ADJ',\n",
       "  'NOUN',\n",
       "  'NOUN',\n",
       "  'NOUN',\n",
       "  'NOUN',\n",
       "  'PRT',\n",
       "  'VERB',\n",
       "  'NOUN',\n",
       "  'ADP',\n",
       "  'ADJ',\n",
       "  '.',\n",
       "  'NOUN',\n",
       "  '.',\n",
       "  'ADP',\n",
       "  'DET',\n",
       "  'ADJ',\n",
       "  'NOUN',\n",
       "  'DET',\n",
       "  'VERB',\n",
       "  'VERB',\n",
       "  'ADP',\n",
       "  'NOUN',\n",
       "  'NOUN']]"
      ]
     },
     "execution_count": 341,
     "metadata": {},
     "output_type": "execute_result"
    }
   ],
   "source": [
    "target_sequences[:1]"
   ]
  },
  {
   "cell_type": "code",
   "execution_count": 345,
   "metadata": {
    "ExecuteTime": {
     "end_time": "2023-11-29T01:59:02.191798400Z",
     "start_time": "2023-11-29T01:59:02.188795900Z"
    },
    "collapsed": false
   },
   "outputs": [],
   "source": [
    "# I abandoned padded sentences as suggested in the question in favor of the above method for better accuracy but this code still works\n",
    "\n",
    "#input_sequences = [[(sentence[i].lower() if i < len(sentence) else '<PAD>') for i in range(sequence_length)] for sentence in normalized_brown_sents]\n",
    "#target_sequences = [[(tagged_sentence[i][1] if i < len(tagged_sentence) else '<PAD>') for i in range(sequence_length)] for tagged_sentence in tagged_sentences]"
   ]
  },
  {
   "cell_type": "code",
   "execution_count": 346,
   "metadata": {
    "ExecuteTime": {
     "end_time": "2023-11-29T01:59:04.417257200Z",
     "start_time": "2023-11-29T01:59:04.413256Z"
    },
    "collapsed": false
   },
   "outputs": [],
   "source": [
    "#input_sequences[:1]"
   ]
  },
  {
   "cell_type": "code",
   "execution_count": 347,
   "metadata": {
    "ExecuteTime": {
     "end_time": "2023-11-29T01:59:04.921354300Z",
     "start_time": "2023-11-29T01:59:04.882341800Z"
    },
    "collapsed": false
   },
   "outputs": [],
   "source": [
    "#target_sequences[:1]"
   ]
  },
  {
   "cell_type": "code",
   "execution_count": 348,
   "metadata": {
    "ExecuteTime": {
     "end_time": "2023-11-29T01:59:05.570745800Z",
     "start_time": "2023-11-29T01:59:05.559757500Z"
    },
    "collapsed": false
   },
   "outputs": [],
   "source": [
    "def word_to_index(word: str) -> int:\n",
    "    return updated_brown_model.key_to_index[word]\n",
    "\n",
    "def index_to_word(index: int) -> str:\n",
    "    return updated_brown_model.index_to_key[index]\n",
    "\n",
    "def sentence_to_index_vector(sentence: List[str]):\n",
    "    return [word_to_index(w) for w in sentence]\n",
    "\n",
    "def index_vector_to_sentence(index_vector: List[int]):\n",
    "    return [index_to_word(i) for i in index_vector]\n",
    "\n",
    "def sentences_to_index_matrix(sentences: List[List[str]]):\n",
    "    return [sentence_to_index_vector(s) for s in sentences]\n",
    "\n",
    "def index_matrix_to_sentences(index_matrix: List[List[int]]):\n",
    "    return [index_vector_to_sentence(v) for v in index_matrix]"
   ]
  },
  {
   "cell_type": "code",
   "execution_count": 349,
   "metadata": {
    "ExecuteTime": {
     "end_time": "2023-11-29T01:59:06.074327100Z",
     "start_time": "2023-11-29T01:59:06.073330800Z"
    },
    "collapsed": false
   },
   "outputs": [],
   "source": [
    "possible_pos_tags = all_tags.copy()\n",
    "#possible_pos_tags += ['<PAD>']\n",
    "\n",
    "def pos_to_index(pos: str) -> int:\n",
    "    return possible_pos_tags.index(pos)\n",
    "\n",
    "def index_to_pos(index: int) -> str:\n",
    "    return possible_pos_tags[index]\n",
    "\n",
    "def pos_sent_to_index_vector(pos_for_sent: List[str]):\n",
    "    return [pos_to_index(w) for w in pos_for_sent]\n",
    "\n",
    "def index_vector_to_pos_sent(index_vector: List[int]):\n",
    "    return [index_to_pos(i) for i in index_vector]\n",
    "\n",
    "def pos_sents_to_index_matrix(pos_for_sents: List[List[str]]):\n",
    "    return [pos_sent_to_index_vector(s) for s in pos_for_sents]\n",
    "\n",
    "def index_matrix_to_pos_sents(index_matrix: List[List[int]]):\n",
    "    return [index_vector_to_pos_sent(v) for v in index_matrix]"
   ]
  },
  {
   "cell_type": "code",
   "execution_count": 278,
   "metadata": {
    "ExecuteTime": {
     "end_time": "2023-11-29T01:00:13.706758800Z",
     "start_time": "2023-11-29T01:00:13.697259300Z"
    },
    "collapsed": false
   },
   "outputs": [],
   "source": [
    "num_tags = len(possible_pos_tags)"
   ]
  },
  {
   "cell_type": "code",
   "execution_count": 279,
   "metadata": {
    "ExecuteTime": {
     "end_time": "2023-11-29T01:00:13.860143Z",
     "start_time": "2023-11-29T01:00:13.805665Z"
    },
    "collapsed": false
   },
   "outputs": [
    {
     "data": {
      "text/plain": [
       "['.',\n",
       " 'ADJ',\n",
       " 'ADP',\n",
       " 'ADV',\n",
       " 'CONJ',\n",
       " 'DET',\n",
       " 'NOUN',\n",
       " 'NUM',\n",
       " 'PRON',\n",
       " 'PRT',\n",
       " 'VERB',\n",
       " 'X']"
      ]
     },
     "execution_count": 279,
     "metadata": {},
     "output_type": "execute_result"
    }
   ],
   "source": [
    "possible_pos_tags"
   ]
  },
  {
   "cell_type": "code",
   "execution_count": 280,
   "metadata": {
    "ExecuteTime": {
     "end_time": "2023-11-29T01:00:14.918012600Z",
     "start_time": "2023-11-29T01:00:14.407919600Z"
    },
    "collapsed": false
   },
   "outputs": [],
   "source": [
    "input_seq = sentences_to_index_matrix(input_sequences)\n",
    "target_seq = pos_sents_to_index_matrix(target_sequences)"
   ]
  },
  {
   "cell_type": "code",
   "execution_count": 281,
   "metadata": {
    "ExecuteTime": {
     "end_time": "2023-11-29T01:00:14.918012600Z",
     "start_time": "2023-11-29T01:00:14.882051600Z"
    },
    "collapsed": false
   },
   "outputs": [
    {
     "name": "stdout",
     "output_type": "stream",
     "text": [
      "[[0, 5423, 642, 2308, 1628, 63, 1795, 35, 2189, 3, 2831, 549, 1131, 1418, 1194, 14, 57, 475, 15, 8, 85, 9109, 214, 172, 2, 0, 1628, 443, 63, 7, 47285, 47284, 8, 0, 222, 1982, 597, 1, 37, 25, 3145, 862, 3, 0, 1418, 1, 14, 5667, 0, 5439, 4, 2947, 3, 0, 222, 3, 2831, 15, 12, 0, 844, 7, 37, 0, 1418, 10, 2059, 2, 0, 47283, 1372, 1628, 25, 49, 1976, 24, 5423, 2447, 408, 1401, 47238, 47253, 5, 7890, 1287, 3, 255, 14, 9109, 15, 7, 0, 20149, 1131, 37, 10, 1623, 24, 47252, 16388], [4595, 1446, 2, 14, 73, 6, 2444, 6672, 3, 89, 1287, 10, 618, 15, 1, 0, 1628, 63, 1, 14, 2394, 0, 3591, 291, 7, 0, 1418, 1, 0, 194, 3, 4982, 4, 0, 747, 3, 26, 222, 15, 2, 0, 1628, 63, 13, 80, 230, 8, 99, 3, 2021, 4436, 4, 1418, 1213, 14, 29, 14018, 32, 3397, 4, 264, 4454, 15, 2, 13, 2400, 8, 5423, 4988, 338, 14, 5, 33, 79, 1213, 1366, 4, 5679, 5, 0, 226, 3, 16387, 4, 5674, 71, 15, 2, 0, 2308, 1628, 5405, 19, 6, 194, 3, 74, 8406, 1, 260]]\n",
      "\n",
      "[[5, 6, 6, 1, 6, 10, 6, 5, 6, 2, 6, 1, 6, 6, 10, 0, 5, 6, 0, 2, 5, 6, 10, 6, 0, 5, 6, 3, 10, 2, 6, 6, 2, 5, 6, 1, 6, 0, 5, 10, 1, 6, 2, 5, 6, 0, 0, 10, 5, 6, 4, 6, 2, 5, 6, 2, 6, 0, 2, 5, 6, 2, 5, 5, 6, 10, 10, 0, 5, 6, 6, 6, 10, 10, 10, 2, 6, 1, 6, 6, 6, 6, 9, 10, 6, 2, 1, 0, 6, 0, 2, 5, 1, 6, 5, 10, 10, 2, 6, 6], [6, 6, 0, 0, 3, 5, 1, 6, 2, 1, 6, 10, 10, 0, 0, 5, 6, 10, 0, 0, 2, 5, 1, 6, 2, 5, 6, 0, 5, 6, 2, 6, 4, 5, 6, 2, 5, 6, 0, 0, 5, 6, 10, 8, 10, 10, 2, 1, 2, 6, 6, 4, 6, 6, 0, 10, 1, 4, 1, 4, 3, 1, 0, 0, 8, 10, 2, 6, 6, 10, 0, 9, 10, 5, 6, 10, 4, 10, 2, 5, 6, 2, 10, 4, 10, 8, 0, 0, 5, 1, 6, 10, 2, 5, 6, 2, 1, 6, 0, 2]]\n"
     ]
    }
   ],
   "source": [
    "print(input_seq[:2])\n",
    "print()\n",
    "print(target_seq[:2])"
   ]
  },
  {
   "cell_type": "code",
   "execution_count": 282,
   "metadata": {
    "ExecuteTime": {
     "end_time": "2023-11-29T01:00:15.190670700Z",
     "start_time": "2023-11-29T01:00:15.188112500Z"
    },
    "collapsed": false
   },
   "outputs": [],
   "source": [
    "input_seq_tensor = torch.Tensor(input_seq).type(torch.LongTensor)"
   ]
  },
  {
   "cell_type": "code",
   "execution_count": 283,
   "metadata": {
    "ExecuteTime": {
     "end_time": "2023-11-29T01:00:15.955029700Z",
     "start_time": "2023-11-29T01:00:15.954026900Z"
    },
    "collapsed": false
   },
   "outputs": [
    {
     "name": "stdout",
     "output_type": "stream",
     "text": [
      "torch.Size([11611, 100])\n"
     ]
    }
   ],
   "source": [
    "print(input_seq_tensor.shape)"
   ]
  },
  {
   "cell_type": "code",
   "execution_count": 284,
   "metadata": {
    "ExecuteTime": {
     "end_time": "2023-11-29T01:00:17.078168300Z",
     "start_time": "2023-11-29T01:00:16.656302700Z"
    },
    "collapsed": false
   },
   "outputs": [],
   "source": [
    "# convert target into one-hot encodings\n",
    "target_seq_tensor = torch.stack(\n",
    "    [F.one_hot(torch.tensor(seq).type(torch.LongTensor), num_classes=num_tags) for seq in target_seq]\n",
    ")"
   ]
  },
  {
   "cell_type": "code",
   "execution_count": 285,
   "metadata": {
    "ExecuteTime": {
     "end_time": "2023-11-29T01:00:17.259095800Z",
     "start_time": "2023-11-29T01:00:17.254559300Z"
    },
    "collapsed": false
   },
   "outputs": [
    {
     "name": "stdout",
     "output_type": "stream",
     "text": [
      "torch.Size([11611, 100, 12])\n"
     ]
    }
   ],
   "source": [
    "print(target_seq_tensor.shape)"
   ]
  },
  {
   "cell_type": "code",
   "execution_count": 286,
   "metadata": {
    "ExecuteTime": {
     "end_time": "2023-11-29T01:00:17.674554400Z",
     "start_time": "2023-11-29T01:00:17.668337300Z"
    },
    "collapsed": false
   },
   "outputs": [
    {
     "data": {
      "text/plain": [
       "11611"
      ]
     },
     "execution_count": 286,
     "metadata": {},
     "output_type": "execute_result"
    }
   ],
   "source": [
    "class BrownDataset(Dataset):\n",
    "\n",
    "        def __init__(self, input_seq, target_seq):\n",
    "            assert len(input_seq) == len(target_seq)\n",
    "            self.input_seq = input_seq\n",
    "            self.target_seq = target_seq\n",
    "\n",
    "        def __len__(self):\n",
    "            return len(self.input_seq)\n",
    "\n",
    "        def __getitem__(self, idx):\n",
    "            return self.input_seq[idx], self.target_seq[idx]\n",
    "\n",
    "ds = BrownDataset(input_seq_tensor,target_seq_tensor)\n",
    "ds.__len__()"
   ]
  },
  {
   "cell_type": "code",
   "execution_count": 287,
   "metadata": {
    "ExecuteTime": {
     "end_time": "2023-11-29T01:00:18.200971900Z",
     "start_time": "2023-11-29T01:00:18.197454Z"
    },
    "collapsed": false
   },
   "outputs": [],
   "source": [
    "gen = torch.Generator().manual_seed(0)  # this will ensure the same split every time\n",
    "train_brown_ds, val_brown_ds, testing_brown_ds = random_split(ds, [0.8,0.10,0.10], generator=gen)"
   ]
  },
  {
   "cell_type": "code",
   "execution_count": 288,
   "metadata": {
    "ExecuteTime": {
     "end_time": "2023-11-29T01:00:18.772119300Z",
     "start_time": "2023-11-29T01:00:18.767604300Z"
    },
    "collapsed": false
   },
   "outputs": [],
   "source": [
    "train_data_loader = DataLoader(train_brown_ds, batch_size=batch_size, shuffle=True)\n",
    "val_data_loader = DataLoader(val_brown_ds, batch_size=batch_size, shuffle=True)\n",
    "test_data_loader = DataLoader(testing_brown_ds, batch_size=batch_size, shuffle=True)"
   ]
  },
  {
   "cell_type": "code",
   "execution_count": 289,
   "metadata": {
    "ExecuteTime": {
     "end_time": "2023-11-29T01:00:19.307899500Z",
     "start_time": "2023-11-29T01:00:19.304899600Z"
    },
    "collapsed": false
   },
   "outputs": [
    {
     "name": "stdout",
     "output_type": "stream",
     "text": [
      "GPU is available\n"
     ]
    }
   ],
   "source": [
    "# torch.cuda.is_available() checks and returns a Boolean True if a GPU is available, else it'll return False\n",
    "is_cuda = torch.cuda.is_available()\n",
    "# If we have a GPU available, we'll set our device to GPU. We'll use this device variable later in our code.\n",
    "if is_cuda:\n",
    "    device = torch.device(\"cuda\")\n",
    "    print(\"GPU is available\")\n",
    "else:\n",
    "    device = torch.device(\"cpu\")\n",
    "    print(\"GPU not available, CPU used\")"
   ]
  },
  {
   "cell_type": "code",
   "execution_count": 299,
   "metadata": {
    "ExecuteTime": {
     "end_time": "2023-11-29T01:07:47.797371900Z",
     "start_time": "2023-11-29T01:07:47.796403900Z"
    },
    "collapsed": false
   },
   "outputs": [],
   "source": [
    "class Model2(nn.Module):\n",
    "    def __init__(self, hidden_dim, n_layers, dropout, bidirectional):\n",
    "        super(Model2, self).__init__()\n",
    "\n",
    "        # Defining some parameters\n",
    "        self.hidden_dim = hidden_dim\n",
    "        self.n_layers = n_layers\n",
    "\n",
    "        self.embedding = nn.Embedding.from_pretrained(torch.FloatTensor(updated_brown_model.vectors),\n",
    "                                                      freeze=not update_embeddings)\n",
    "\n",
    "        #Defining the layers\n",
    "        self.lstm = nn.LSTM(glove_embedding_dim, hidden_dim, num_layers=n_layers, batch_first=True,\n",
    "                            dropout=dropout, bidirectional=bidirectional)\n",
    "        # Fully connected layer\n",
    "        self.fc1 = nn.Linear((hidden_dim * 2) if bidirectional else (hidden_dim), glove_embedding_dim)\n",
    "        self.fc2 = nn.Linear(glove_embedding_dim, num_tags)\n",
    "\n",
    "    # written by chat gpt\n",
    "    def forward(self, x):\n",
    "\n",
    "        x = self.embedding(x)\n",
    "\n",
    "        # Initialize hidden state with zeros\n",
    "        h0 = torch.zeros(self.n_layers * 2 if self.lstm.bidirectional else self.n_layers, x.size(0), self.hidden_dim).double().requires_grad_().to(device)\n",
    "\n",
    "        # Initialize cell state\n",
    "        c0 = torch.zeros(self.n_layers * 2 if self.lstm.bidirectional else self.n_layers, x.size(0), self.hidden_dim).double().requires_grad_().to(device)\n",
    "\n",
    "        # for contigious memory\n",
    "        self.lstm.flatten_parameters()\n",
    "\n",
    "        # We need to detach as we are doing truncated backpropagation through time (BPTT)\n",
    "        # If we don't, we'll backprop all the way to the start even after going through another batch\n",
    "        out, (hn, cn) = self.lstm(x, (h0.detach(), c0.detach()))\n",
    "\n",
    "        ## Index hidden state of last time step\n",
    "        out = F.relu(self.fc1(out))  # Apply ReLU activation to fc1 output\n",
    "        out = self.fc2(out)  # No activation function applied to fc2\n",
    "\n",
    "        return out"
   ]
  },
  {
   "cell_type": "code",
   "execution_count": 300,
   "metadata": {
    "ExecuteTime": {
     "end_time": "2023-11-29T01:07:48.917863400Z",
     "start_time": "2023-11-29T01:07:48.864288600Z"
    },
    "collapsed": false
   },
   "outputs": [
    {
     "name": "stdout",
     "output_type": "stream",
     "text": [
      "Model2(\n",
      "  (embedding): Embedding(47294, 200)\n",
      "  (lstm): LSTM(200, 300, num_layers=2, batch_first=True, bidirectional=True)\n",
      "  (fc1): Linear(in_features=600, out_features=200, bias=True)\n",
      "  (fc2): Linear(in_features=200, out_features=12, bias=True)\n",
      ")\n"
     ]
    }
   ],
   "source": [
    "# Instantiate the model with hyperparameters\n",
    "model2 = Model2(hidden_dim=hidden_dimensions, n_layers=num_layers,dropout=dropout, bidirectional=bidirectional)\n",
    "print(model2)\n",
    "model2 = nn.DataParallel(model2)\n",
    "model2 = model2.double().to(device)\n",
    "# Define Loss, Optimizer\n",
    "loss_fn = nn.CrossEntropyLoss()  # this loss function is better for continuous values and CrossEntropy is better for classification. Here we are trying to predict word vectors.\n",
    "optimizer = torch.optim.Adam(model2.parameters(), lr=learning_rate,weight_decay=adam_weight_decay)\n",
    "training_losses = []\n",
    "training_accuracy = []\n",
    "val_losses = []\n",
    "val_accuracy = []\n",
    "current_patience = 0"
   ]
  },
  {
   "cell_type": "code",
   "execution_count": 302,
   "metadata": {
    "ExecuteTime": {
     "end_time": "2023-11-29T01:12:15.940850Z",
     "start_time": "2023-11-29T01:08:26.765881600Z"
    },
    "collapsed": false
   },
   "outputs": [
    {
     "name": "stderr",
     "output_type": "stream",
     "text": [
      " 50%|█████████████████████████████████████████████████████████████                                                             | 50/100 [03:49<03:49,  4.58s/it]"
     ]
    },
    {
     "name": "stdout",
     "output_type": "stream",
     "text": [
      "Early stopping after 50 epochs with patience 15\n"
     ]
    },
    {
     "name": "stderr",
     "output_type": "stream",
     "text": [
      "\n"
     ]
    }
   ],
   "source": [
    "num_epochs = 100\n",
    "patience = 15  # I know instructions mentioned patience of 50, but I found that to be too high\n",
    "\n",
    "CURRENT_BEST_MODEL_VALIDATION = 97.05  # the validation of the best model I've trained so far\n",
    "for epoch in tqdm(range(num_epochs)):\n",
    "\n",
    "    # training\n",
    "    model2.train()\n",
    "    t_num_correct = 0\n",
    "    t_loss = 0\n",
    "\n",
    "    for input_sequences, target_sequences in train_data_loader:\n",
    "        input_sequences = input_sequences.to(device)\n",
    "        target_sequences = target_sequences.to(device)\n",
    "\n",
    "        optimizer.zero_grad()\n",
    "        output = model2(input_sequences)\n",
    "\n",
    "        #print('input shape:', input_sequences.shape)\n",
    "        #print('target shape:', target_sequences.shape)\n",
    "        #print('output shape:', output.shape)\n",
    "        #print(output[0])\n",
    "        #print(input_sequences[0])\n",
    "        #print(target_sequences[0])\n",
    "        #break\n",
    "\n",
    "        loss = loss_fn(output, target_sequences.double())\n",
    "        loss.backward()\n",
    "        optimizer.step()\n",
    "\n",
    "        # add to t_num_correct\n",
    "        t_num_correct += (torch.argmax(output, dim=2) == torch.argmax(target_sequences, dim=2)).float().sum().item()\n",
    "\n",
    "    training_losses.append(loss.item())\n",
    "    training_accuracy.append(t_num_correct/len(train_brown_ds))\n",
    "\n",
    "    #torch.nn.utils.clip_grad_norm_(model2.parameters(), max_norm=1.0)\n",
    "\n",
    "    #  validation\n",
    "    model2.eval()\n",
    "    v_loss = 0.0\n",
    "    v_num_correct = 0\n",
    "\n",
    "    for input_sequences, target_sequences in val_data_loader:\n",
    "        input_sequences = input_sequences.to(device)\n",
    "        target_sequences = target_sequences.to(device)\n",
    "\n",
    "        output = model2(input_sequences)\n",
    "        loss = loss_fn(output, target_sequences.double())\n",
    "\n",
    "        #v_loss += loss.item()\n",
    "        v_num_correct += (torch.argmax(output, dim=2) == torch.argmax(target_sequences, dim=2)).float().sum().item()\n",
    "\n",
    "    val_losses.append(loss.item())\n",
    "    val_accuracy.append(v_num_correct/len(val_brown_ds))\n",
    "\n",
    "\n",
    "    # Check for early stopping\n",
    "    if len(val_losses) < 2 or val_losses[-1] < min(val_losses[:-1]):\n",
    "        current_patience = 0\n",
    "    else:\n",
    "        current_patience += 1\n",
    "\n",
    "    if current_patience >= patience:\n",
    "        print(f'Early stopping after {epoch} epochs with patience {patience}')\n",
    "        break\n",
    "\n",
    "    # if this is this model's best validation accuracy AND it beats my current best model then save this\n",
    "    if val_accuracy[-1] == max(val_accuracy) and val_accuracy[-1] > CURRENT_BEST_MODEL_VALIDATION:\n",
    "        torch.save(model2, \"current_best_4.p3.model\")\n"
   ]
  },
  {
   "cell_type": "code",
   "execution_count": 303,
   "metadata": {
    "ExecuteTime": {
     "end_time": "2023-11-29T01:20:21.152724500Z",
     "start_time": "2023-11-29T01:20:20.339498300Z"
    },
    "collapsed": false
   },
   "outputs": [
    {
     "data": {
      "image/png": "[encoded data removed]",
      "text/plain": [
       "<Figure size 640x480 with 1 Axes>"
      ]
     },
     "metadata": {},
     "output_type": "display_data"
    },
    {
     "data": {
      "image/png": "[encoded data removed]",
      "text/plain": [
       "<Figure size 640x480 with 1 Axes>"
      ]
     },
     "metadata": {},
     "output_type": "display_data"
    },
    {
     "name": "stdout",
     "output_type": "stream",
     "text": [
      "Best validation accuracy: 97.05426356589147 (50th epoch)\n"
     ]
    }
   ],
   "source": [
    "plt.title('Loss')\n",
    "plt.plot(training_losses, label='training')\n",
    "plt.plot(val_losses, label='validation')\n",
    "plt.legend()\n",
    "plt.show()\n",
    "\n",
    "plt.title('Accuracy')\n",
    "plt.plot(training_accuracy, label='training accuracy')\n",
    "plt.plot(val_accuracy, label='validation accuracy')\n",
    "plt.legend()\n",
    "plt.show()\n",
    "\n",
    "print('Best validation accuracy:', max(val_accuracy), f'({np.argmax(val_accuracy)}th epoch)')"
   ]
  },
  {
   "cell_type": "code",
   "execution_count": 308,
   "metadata": {
    "ExecuteTime": {
     "end_time": "2023-11-29T01:22:21.961948700Z",
     "start_time": "2023-11-29T01:22:21.930356900Z"
    },
    "collapsed": false
   },
   "outputs": [],
   "source": [
    "# load back in the model from the best epoch\n",
    "model2 = torch.load(\"current_best_4.p3.model\")"
   ]
  },
  {
   "cell_type": "code",
   "execution_count": 310,
   "metadata": {
    "ExecuteTime": {
     "end_time": "2023-11-29T01:25:08.729717100Z",
     "start_time": "2023-11-29T01:25:08.505582200Z"
    },
    "collapsed": false
   },
   "outputs": [
    {
     "name": "stdout",
     "output_type": "stream",
     "text": [
      "Final Test Accuracy: 96.90267011197244\n"
     ]
    }
   ],
   "source": [
    "#  testing\n",
    "num_correct_test = 0\n",
    "model2.eval()\n",
    "\n",
    "for input_sequences, target_sequences in test_data_loader:\n",
    "        input_sequences = input_sequences.to(device)\n",
    "        target_sequences = target_sequences.to(device)\n",
    "\n",
    "        output = model2(input_sequences)\n",
    "\n",
    "        num_correct_test += (torch.argmax(output, dim=2) == torch.argmax(target_sequences, dim=2)).float().sum().item()\n",
    "\n",
    "test_accuracy = num_correct_test / len(testing_brown_ds)\n",
    "print('Final Test Accuracy:', test_accuracy)"
   ]
  },
  {
   "cell_type": "code",
   "execution_count": 318,
   "metadata": {
    "ExecuteTime": {
     "end_time": "2023-11-29T01:55:47.238743300Z",
     "start_time": "2023-11-29T01:55:47.234736900Z"
    },
    "collapsed": false
   },
   "outputs": [
    {
     "name": "stdout",
     "output_type": "stream",
     "text": [
      "Percent Above Baseline: 1.192670111972447\n",
      "Cohen's Kappa: -0.012592863604397077\n"
     ]
    }
   ],
   "source": [
    "print('Percent Above Baseline:', (test_accuracy - baseline_accuracy))\n",
    "print('Cohen\\'s Kappa:', (test_accuracy - baseline_accuracy) / (1 - baseline_accuracy))"
   ]
  },
  {
   "cell_type": "code",
   "execution_count": 237,
   "metadata": {
    "ExecuteTime": {
     "end_time": "2023-11-29T00:34:37.185617600Z",
     "start_time": "2023-11-29T00:34:37.184625500Z"
    },
    "collapsed": false
   },
   "outputs": [],
   "source": [
    "def predict(model2, word_seq):\n",
    "\n",
    "    # only look at last sequence_length - 1 characters\n",
    "    word_seq = word_seq[-(sequence_length):]\n",
    "\n",
    "    # One-hot encoding our input to fit into the model2\n",
    "    word_seq = np.array(sentences_to_index_matrix([word_seq]))\n",
    "    word_seq = torch.from_numpy(word_seq).to(device)\n",
    "\n",
    "    model2.eval()\n",
    "    out = model2(word_seq)[-1]\n",
    "\n",
    "    # take the probability distribution of the last character in the sequence produced by the model2\n",
    "    results = []\n",
    "    for elem in out:\n",
    "        char_ind = torch.argmax(elem)  # pick the most likely one\n",
    "        results += [index_to_pos(char_ind)]\n",
    "\n",
    "    return results"
   ]
  },
  {
   "cell_type": "code",
   "execution_count": 311,
   "metadata": {
    "ExecuteTime": {
     "end_time": "2023-11-29T01:26:29.963634900Z",
     "start_time": "2023-11-29T01:26:29.947576700Z"
    },
    "collapsed": false
   },
   "outputs": [
    {
     "name": "stdout",
     "output_type": "stream",
     "text": [
      "['DET', 'NOUN', 'NOUN', 'ADJ', 'NOUN', 'VERB', 'NOUN', 'DET', 'NOUN', 'ADP', 'NOUN', 'ADJ']\n",
      "['DET', 'NOUN', 'NOUN', 'ADJ', 'NOUN', 'VERB', 'NOUN', 'DET', 'NOUN', 'ADP', 'NOUN', 'ADJ']\n"
     ]
    }
   ],
   "source": [
    "test = predict(model2, word_tokens[:12])\n",
    "print(test[:12])\n",
    "print(pos_tokens[:12])"
   ]
  },
  {
   "cell_type": "code",
   "execution_count": 312,
   "metadata": {
    "ExecuteTime": {
     "end_time": "2023-11-29T01:36:37.055903900Z",
     "start_time": "2023-11-29T01:34:32.259989800Z"
    },
    "collapsed": false
   },
   "outputs": [
    {
     "name": "stderr",
     "output_type": "stream",
     "text": [
      "100%|█████████████████████████████████████████████████████████████████████████████████████████████████████████████████████| 11612/11612 [02:04<00:00, 93.07it/s]\n"
     ]
    }
   ],
   "source": [
    "predictions = []\n",
    "for i in tqdm(range(0, len(pos_tokens), sequence_length)):\n",
    "    predicted = predict(model2, word_tokens[i:i+sequence_length])\n",
    "    predictions += predicted"
   ]
  },
  {
   "cell_type": "code",
   "execution_count": 313,
   "metadata": {
    "ExecuteTime": {
     "end_time": "2023-11-29T01:36:37.294141400Z",
     "start_time": "2023-11-29T01:36:37.038854200Z"
    },
    "collapsed": false
   },
   "outputs": [
    {
     "name": "stdout",
     "output_type": "stream",
     "text": [
      "Accuracy on the entire dataset: 0.9809798896306554\n"
     ]
    }
   ],
   "source": [
    "assert len(predictions) == len(pos_tokens)\n",
    "total = 0\n",
    "correct = 0\n",
    "for i in range(len(predictions)):\n",
    "    total += 1\n",
    "    if pos_tokens[i] == predictions[i]:\n",
    "        correct += 1\n",
    "print('Accuracy on the entire dataset:', correct / total)"
   ]
  },
  {
   "cell_type": "markdown",
   "metadata": {
    "collapsed": false
   },
   "source": [
    "### How the 3 methods compare\n",
    "\n",
    "Random Accuracy: 95.71\n",
    "Viterbi: 97.55 (kappa=-0.0194)\n",
    "My LSTM (test ds): 96.90 (kappa=-0.0123)\n",
    "\n",
    "I discovered that Viterbi actually does a very good job of assigning the correct part of speech. I found it near impossible to beat with my neural network (although I came somewhat close with a testing accuracy of 96.9). With the random accuracy so high, I already had to play around quite a bit to even beat that."
   ]
  },
  {
   "cell_type": "markdown",
   "metadata": {},
   "source": [
    "### Part D:  "
   ]
  },
  {
   "cell_type": "markdown",
   "metadata": {},
   "source": [
    "Provide an analysis of what experiments you conducted with hyperparameters, what your results were, and in particular comment on how the two methods compare, especially given that one has *no* choice of hyperparameters, and one has *many* choices of parameters. How useful was the flexibility of choice in hyperparameters in Part C?\n",
    "\n",
    "In this problem, I found two significant things that impacted the quality of my predictions:\n",
    "\n",
    "1. Playing around with the weight decay in Adam.\n",
    "After much experimentation, I found the value of 0.008 to generate the best results. Sure, other hyperparameters like Bidirectional and hidden state size also mattered, but the weight decay was the main magic. Adam's weight decay also help prevent overfitting rendering the drop-out layers useless. In fact, matter of fact, I achieved a worst validation accuracy with a non-zero dropout rate.\n",
    "\n",
    "2. Changing the data itself -- specifically how the sequences were made. Instead of using padded sequences of 100 length sentences, I found that instead taking a 100-length window across the entire data-set (like in problem 1) worked much better. But unlike in problem one, we have to move the \"window\" by intervals of 100 so that the testing/validation sets will have examples of word sequences the network had not seen before.\n",
    "\n",
    "Furthermore, unlike part B, in part C we have loads of hyper-parameters. Viterbi is doing a simple analysis. The RNN has the whole history and thus more power so in principle it has more information and more power to work from. Viterbi is only a essentially a \"dumb\" bi-gram method that may not adapt as well to more \"wierd\" datasets. Sure in this particular case I failed to beat Viterbi, but I'm sure if I spent enough time on this, my RNN could beat Viterbi. At the same time, the added hyperparameters also makes part C a pain to figure out the best parameters."
   ]
  },
  {
   "cell_type": "markdown",
   "metadata": {},
   "source": [
    "#### Optional:\n",
    "\n",
    "You might want to try doing this problem with a transformer model such as BERT. There are plenty of blog posts out there describing the details, and, as usual, chatGPT would have plenty of things to say about the topic.... "
   ]
  }
 ],
 "metadata": {
  "kernelspec": {
   "display_name": "venv",
   "language": "python",
   "name": "venv"
  },
  "language_info": {
   "codemirror_mode": {
    "name": "ipython",
    "version": 3
   },
   "file_extension": ".py",
   "mimetype": "text/x-python",
   "name": "python",
   "nbconvert_exporter": "python",
   "pygments_lexer": "ipython3",
   "version": "3.10.12"
  }
 },
 "nbformat": 4,
 "nbformat_minor": 4
}
